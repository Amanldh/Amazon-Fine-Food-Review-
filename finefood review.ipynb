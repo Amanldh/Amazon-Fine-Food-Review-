{
 "cells": [
  {
   "cell_type": "markdown",
   "metadata": {},
   "source": [
    "<h2>  AMAZON Fine Food Reviews Data & Sentiment Analysis</h2>\n",
    "<h4> 1. Exploratory Data Analysis</h4>\n",
    "<h4> 2. Sentiment Analysis </h4>\n",
    "<h5> 3. Using Naive Bayes</h5>\n",
    "<h5> 4. Logestic Regression by default using l2 Regularizer</h5>\n",
    "<h5> 5.Logestic Regression by using l1 Regularizer</h5>\n",
    "<h5> 6. Examining features of Data by Using Feature Engineering</h5>\n",
    "<h5> 7. Linear SVM Using Hinge loss</h5>\n",
    "<h5> 8. Calculate Metrics(Confusion Metrics,Precision, Recall, F1 Score,Log loss, Accuracy) for each model</h5>\n",
    "<h5> 9. Cross Validation and Grid Search for finding optimal regularizer in logistic Regression</h5>\n",
    "<h5> 10. K-Fold Cross Validation For logistic Regression</h5>\n",
    "<h5> 11. Comparing all above mentioned Models</h5>"
   ]
  },
  {
   "cell_type": "markdown",
   "metadata": {
    "collapsed": true
   },
   "source": [
    "Total number of Reviews=568454\n",
    "Number of Users= 256059 \n",
    "Number of Products=74258"
   ]
  },
  {
   "cell_type": "code",
   "execution_count": 1,
   "metadata": {
    "scrolled": true
   },
   "outputs": [
    {
     "name": "stderr",
     "output_type": "stream",
     "text": [
      "/usr/local/lib/python2.7/dist-packages/pandas/core/computation/__init__.py:18: UserWarning: The installed version of numexpr 2.4.3 is not supported in pandas and will be not be used\n",
      "The minimum supported version is 2.4.6\n",
      "\n",
      "  ver=ver, min_ver=_MIN_NUMEXPR_VERSION), UserWarning)\n",
      "/usr/local/lib/python2.7/dist-packages/sklearn/cross_validation.py:44: DeprecationWarning: This module was deprecated in version 0.18 in favor of the model_selection module into which all the refactored classes and functions are moved. Also note that the interface of the new CV iterators are different from that of this module. This module will be removed in 0.20.\n",
      "  \"This module will be removed in 0.20.\", DeprecationWarning)\n"
     ]
    }
   ],
   "source": [
    "# Import Data Set \n",
    "import sqlite3\n",
    "import pandas as pd\n",
    "import matplotlib.pyplot as plt\n",
    "import numpy as np\n",
    "from sklearn.feature_extraction.text import CountVectorizer\n",
    "from sklearn.cross_validation import train_test_split\n",
    "\n",
    "\n"
   ]
  },
  {
   "cell_type": "markdown",
   "metadata": {},
   "source": [
    "## Read data from csv file"
   ]
  },
  {
   "cell_type": "code",
   "execution_count": 22,
   "metadata": {
    "collapsed": true
   },
   "outputs": [],
   "source": [
    "con= sqlite3.connect('database.sqlite')\n",
    "data= pd.read_sql_query(\"Select * from Reviews\",con)"
   ]
  },
  {
   "cell_type": "code",
   "execution_count": 23,
   "metadata": {
    "scrolled": false
   },
   "outputs": [
    {
     "name": "stdout",
     "output_type": "stream",
     "text": [
      "                  Id  HelpfulnessNumerator  HelpfulnessDenominator  \\\n",
      "count  568454.000000         568454.000000            568454.00000   \n",
      "mean   284227.500000              1.743817                 2.22881   \n",
      "std    164098.679298              7.636513                 8.28974   \n",
      "min         1.000000              0.000000                 0.00000   \n",
      "25%    142114.250000              0.000000                 0.00000   \n",
      "50%    284227.500000              0.000000                 1.00000   \n",
      "75%    426340.750000              2.000000                 2.00000   \n",
      "max    568454.000000            866.000000               923.00000   \n",
      "\n",
      "               Score          Time  \n",
      "count  568454.000000  5.684540e+05  \n",
      "mean        4.183199  1.296257e+09  \n",
      "std         1.310436  4.804331e+07  \n",
      "min         1.000000  9.393408e+08  \n",
      "25%         4.000000  1.271290e+09  \n",
      "50%         5.000000  1.311120e+09  \n",
      "75%         5.000000  1.332720e+09  \n",
      "max         5.000000  1.351210e+09  \n",
      "(568454, 10)\n"
     ]
    }
   ],
   "source": [
    "# data = pd.read_csv(\"Reviews.csv\")\n",
    "\n",
    "print data.describe()\n",
    "print (data.shape)"
   ]
  },
  {
   "cell_type": "markdown",
   "metadata": {},
   "source": [
    "### total data points are 568K"
   ]
  },
  {
   "cell_type": "code",
   "execution_count": 30,
   "metadata": {
    "scrolled": true
   },
   "outputs": [
    {
     "name": "stdout",
     "output_type": "stream",
     "text": [
      "(525814, 10)\n"
     ]
    }
   ],
   "source": [
    "# Remove reviews of  Rating=3\n",
    "# Because we are unable to predict the polarity related to score=3,\n",
    "# rating 3 review have equall probability to be positive and  negative\n",
    "df= data[data.Score != 3]\n",
    "print df.shape"
   ]
  },
  {
   "cell_type": "code",
   "execution_count": 25,
   "metadata": {},
   "outputs": [
    {
     "name": "stdout",
     "output_type": "stream",
     "text": [
      "92.4989533014\n"
     ]
    }
   ],
   "source": [
    "# calculate what % of data remaining \n",
    "print ((df['Id'].size*1.0)/(data['Id'].size*1.0))*100"
   ]
  },
  {
   "cell_type": "markdown",
   "metadata": {},
   "source": [
    "### Get 525K data points after removal of rating 3 reviews, \n",
    "### hence we short data by approx 8%\n"
   ]
  },
  {
   "cell_type": "markdown",
   "metadata": {},
   "source": [
    "## Data Cleaning:- Data deduplication"
   ]
  },
  {
   "cell_type": "code",
   "execution_count": 11,
   "metadata": {
    "collapsed": true
   },
   "outputs": [],
   "source": [
    "# Sorting data according to product Id\n",
    "sort_data=df.sort_values(\"ProductId\",axis=0, ascending=True)"
   ]
  },
  {
   "cell_type": "code",
   "execution_count": 17,
   "metadata": {
    "scrolled": true
   },
   "outputs": [
    {
     "data": {
      "text/plain": [
       "(328771, 10)"
      ]
     },
     "execution_count": 17,
     "metadata": {},
     "output_type": "execute_result"
    }
   ],
   "source": [
    "# Remove duplicates\n",
    "final=sort_data.drop_duplicates(subset={'UserId', 'ProfileName', 'Time'}, keep='first', inplace=False)\n",
    "final.shape"
   ]
  },
  {
   "cell_type": "code",
   "execution_count": 16,
   "metadata": {},
   "outputs": [
    {
     "name": "stdout",
     "output_type": "stream",
     "text": [
      "62.526102386\n"
     ]
    }
   ],
   "source": [
    "# Calculate what % of data remaining\n",
    "print (final['Id'].size*1.0)/(sort_data['Id'].size*1.0)*100"
   ]
  },
  {
   "cell_type": "code",
   "execution_count": 34,
   "metadata": {
    "scrolled": true
   },
   "outputs": [
    {
     "name": "stdout",
     "output_type": "stream",
     "text": [
      "   Id   ProductId          UserId                      ProfileName  \\\n",
      "0   1  B001E4KFG0  A3SGXH7AUHU8GW                       delmartian   \n",
      "1   2  B00813GRG4  A1D87F6ZCVE5NK                           dll pa   \n",
      "2   3  B000LQOCH0   ABXLMWJIXXAIN  Natalia Corres \"Natalia Corres\"   \n",
      "3   4  B000UA0QIQ  A395BORC6FGVXV                             Karl   \n",
      "4   5  B006K2ZZ7K  A1UQRSCLF8GW1T    Michael D. Bigham \"M. Wassir\"   \n",
      "\n",
      "   HelpfulnessNumerator  HelpfulnessDenominator  Score        Time  \\\n",
      "0                     1                       1    1.0  1303862400   \n",
      "1                     0                       0    0.0  1346976000   \n",
      "2                     1                       1    1.0  1219017600   \n",
      "3                     3                       3    NaN  1307923200   \n",
      "4                     0                       0    1.0  1350777600   \n",
      "\n",
      "                 Summary                                               Text  \n",
      "0  Good Quality Dog Food  I have bought several of the Vitality canned d...  \n",
      "1      Not as Advertised  Product arrived labeled as Jumbo Salted Peanut...  \n",
      "2  \"Delight\" says it all  This is a confection that has been around a fe...  \n",
      "3         Cough Medicine  If you are looking for the secret ingredient i...  \n",
      "4            Great taffy  Great taffy at a great price.  There was a wid...  \n"
     ]
    },
    {
     "name": "stderr",
     "output_type": "stream",
     "text": [
      "/usr/local/lib/python2.7/dist-packages/ipykernel_launcher.py:2: SettingWithCopyWarning: \n",
      "A value is trying to be set on a copy of a slice from a DataFrame.\n",
      "Try using .loc[row_indexer,col_indexer] = value instead\n",
      "\n",
      "See the caveats in the documentation: http://pandas.pydata.org/pandas-docs/stable/indexing.html#indexing-view-versus-copy\n",
      "  \n"
     ]
    }
   ],
   "source": [
    "# Converting Rating to Binary class i.e high rating=1, low rating=0\n",
    "df['Score']=final['Score'].apply(lambda x: 1 if (x > 3)  else 0)\n",
    "print df.head()"
   ]
  },
  {
   "cell_type": "markdown",
   "metadata": {},
   "source": [
    "<h1> a.) Positive Reviews are Common </h1>\n",
    "<h4> 84% data belongs to positive rating class and 15.6% Reviews are corresponds to negative class rating</h4>"
   ]
  },
  {
   "cell_type": "code",
   "execution_count": 6,
   "metadata": {},
   "outputs": [
    {
     "name": "stdout",
     "output_type": "stream",
     "text": [
      "Score\n",
      "0     82037\n",
      "1    443777\n",
      "dtype: int64\n"
     ]
    }
   ],
   "source": [
    "# Count Reviews belonged to High Rating and Low Rating\n",
    "df2= df1.groupby('Score').size()\n",
    "print df2"
   ]
  },
  {
   "cell_type": "code",
   "execution_count": 7,
   "metadata": {},
   "outputs": [
    {
     "name": "stdout",
     "output_type": "stream",
     "text": [
      "Score\n",
      "0    15.601905\n",
      "1    84.398095\n",
      "dtype: float64\n"
     ]
    },
    {
     "data": {
      "image/png": "[encoded data removed]",
      "text/plain": [
       "<matplotlib.figure.Figure at 0x7f5afd0e8c50>"
      ]
     },
     "metadata": {},
     "output_type": "display_data"
    }
   ],
   "source": [
    "# Calculate Percentage of High Rating and low Rating\n",
    "per= df2/sum(df2)*100\n",
    "print per\n",
    "df2.plot(kind='bar',title='Label Distribution')\n",
    "plt.xlabel('rating')\n",
    "plt.ylabel('values')\n",
    "# plt.legend()\n",
    "plt.show()"
   ]
  },
  {
   "cell_type": "markdown",
   "metadata": {},
   "source": [
    "<h2>b.) Positive reviews are shorter in length</h2>"
   ]
  },
  {
   "cell_type": "code",
   "execution_count": 8,
   "metadata": {},
   "outputs": [
    {
     "name": "stderr",
     "output_type": "stream",
     "text": [
      "/usr/local/lib/python2.7/dist-packages/ipykernel_launcher.py:4: SettingWithCopyWarning: \n",
      "A value is trying to be set on a copy of a slice from a DataFrame.\n",
      "Try using .loc[row_indexer,col_indexer] = value instead\n",
      "\n",
      "See the caveats in the documentation: http://pandas.pydata.org/pandas-docs/stable/indexing.html#indexing-view-versus-copy\n",
      "  after removing the cwd from sys.path.\n"
     ]
    },
    {
     "name": "stdout",
     "output_type": "stream",
     "text": [
      "Score\n",
      "0    24.630981\n",
      "1    22.975560\n",
      "Name: Length, dtype: float64\n"
     ]
    }
   ],
   "source": [
    "# Calculate Avg. Length of High rating Reviews V/S Low Rating Reviews\n",
    "df3=df.iloc[:,[6,8]]\n",
    "df3 = df[df.Score != 3]\n",
    "df3['Score']=df3['Score'].apply(lambda x: 1 if (x > 3)  else 0)\n",
    "df3=df3.iloc[:,[6,8]]\n",
    "df3['Length'] = df3['Summary'].str.len()\n",
    "df3=df3.iloc[:,[0,2]]\n",
    "df3=df3.groupby('Score')['Length'].mean()\n",
    "print df3.head()"
   ]
  },
  {
   "cell_type": "code",
   "execution_count": 7,
   "metadata": {},
   "outputs": [
    {
     "data": {
      "image/png": "[encoded data removed]",
      "text/plain": [
       "<matplotlib.figure.Figure at 0x7f9a54afff50>"
      ]
     },
     "metadata": {},
     "output_type": "display_data"
    }
   ],
   "source": [
    "# Plot the Graph between Length of High rating Review V/S Low Level Review\n",
    "df3.plot(kind='bar',color='g',title='positive Reviews have shorter length')\n",
    "plt.xlabel('rating')\n",
    "plt.ylabel('avg length of Summary')\n",
    "# plt.legend()\n",
    "plt.show()"
   ]
  },
  {
   "cell_type": "markdown",
   "metadata": {},
   "source": [
    "<h2>c.) Longer reviews are more helpful</h2>\n",
    "<h4>we consider reviews are helpul if reviews are known to be helpful by atleast one person, otherwise Excluded </h4>"
   ]
  },
  {
   "cell_type": "code",
   "execution_count": 9,
   "metadata": {},
   "outputs": [
    {
     "name": "stdout",
     "output_type": "stream",
     "text": [
      "ratio\n",
      "0    23.676342\n",
      "1    24.246799\n",
      "Name: Length, dtype: float64\n"
     ]
    },
    {
     "name": "stderr",
     "output_type": "stream",
     "text": [
      "/usr/local/lib/python2.7/dist-packages/ipykernel_launcher.py:6: SettingWithCopyWarning: \n",
      "A value is trying to be set on a copy of a slice from a DataFrame.\n",
      "Try using .loc[row_indexer,col_indexer] = value instead\n",
      "\n",
      "See the caveats in the documentation: http://pandas.pydata.org/pandas-docs/stable/indexing.html#indexing-view-versus-copy\n",
      "  \n",
      "/usr/local/lib/python2.7/dist-packages/ipykernel_launcher.py:7: SettingWithCopyWarning: \n",
      "A value is trying to be set on a copy of a slice from a DataFrame.\n",
      "Try using .loc[row_indexer,col_indexer] = value instead\n",
      "\n",
      "See the caveats in the documentation: http://pandas.pydata.org/pandas-docs/stable/indexing.html#indexing-view-versus-copy\n",
      "  import sys\n"
     ]
    }
   ],
   "source": [
    "# Find the co-relation between the helpfullness and  length of the Reviews\n",
    "df = df[df.Score != 3]\n",
    "df['Score']=df['Score'].apply(lambda x: 1 if (x > 3)  else 0)\n",
    "df['Length'] = df['Summary'].str.len()\n",
    "df4= df[df.HelpfulnessDenominator!=0]\n",
    "df4['ratio'] = df4['HelpfulnessNumerator']/df4['HelpfulnessDenominator']\n",
    "df4['ratio']=df4['ratio'].apply(lambda x: 0 if (x < 0.5)  else 1)\n",
    "df4=df4.groupby('ratio')['Length'].mean()\n",
    "print df4.head()"
   ]
  },
  {
   "cell_type": "code",
   "execution_count": 9,
   "metadata": {},
   "outputs": [
    {
     "data": {
      "image/png": "[encoded data removed]",
      "text/plain": [
       "<matplotlib.figure.Figure at 0x7f9a8c157910>"
      ]
     },
     "metadata": {},
     "output_type": "display_data"
    }
   ],
   "source": [
    "# Plot Histogram between Helpfulness ratio and Length of the Summary\n",
    "df4.plot(kind='bar',color='g',title='longer reviews are helpul')\n",
    "plt.xlabel('ratio')\n",
    "plt.ylabel('avg length of Summary')\n",
    "# plt.legend()\n",
    "plt.show()"
   ]
  },
  {
   "cell_type": "markdown",
   "metadata": {},
   "source": [
    "<h2>d.) Despite being more common and shorter, positive reviews are found more helpful.</h2>\n",
    "<h4> High rated Reviews are found more helpful than low rated  reviews</h4>"
   ]
  },
  {
   "cell_type": "code",
   "execution_count": 10,
   "metadata": {},
   "outputs": [
    {
     "name": "stderr",
     "output_type": "stream",
     "text": [
      "/usr/local/lib/python2.7/dist-packages/ipykernel_launcher.py:3: SettingWithCopyWarning: \n",
      "A value is trying to be set on a copy of a slice from a DataFrame.\n",
      "Try using .loc[row_indexer,col_indexer] = value instead\n",
      "\n",
      "See the caveats in the documentation: http://pandas.pydata.org/pandas-docs/stable/indexing.html#indexing-view-versus-copy\n",
      "  This is separate from the ipykernel package so we can avoid doing imports until\n",
      "/usr/local/lib/python2.7/dist-packages/ipykernel_launcher.py:4: SettingWithCopyWarning: \n",
      "A value is trying to be set on a copy of a slice from a DataFrame.\n",
      "Try using .loc[row_indexer,col_indexer] = value instead\n",
      "\n",
      "See the caveats in the documentation: http://pandas.pydata.org/pandas-docs/stable/indexing.html#indexing-view-versus-copy\n",
      "  after removing the cwd from sys.path.\n"
     ]
    },
    {
     "name": "stdout",
     "output_type": "stream",
     "text": [
      "que\n",
      "0     79527\n",
      "1    194658\n",
      "dtype: int64\n"
     ]
    },
    {
     "name": "stderr",
     "output_type": "stream",
     "text": [
      "/usr/local/lib/python2.7/dist-packages/ipykernel_launcher.py:5: SettingWithCopyWarning: \n",
      "A value is trying to be set on a copy of a slice from a DataFrame.\n",
      "Try using .loc[row_indexer,col_indexer] = value instead\n",
      "\n",
      "See the caveats in the documentation: http://pandas.pydata.org/pandas-docs/stable/indexing.html#indexing-view-versus-copy\n",
      "  \"\"\"\n"
     ]
    }
   ],
   "source": [
    "# High rated and longer length Reviews are more helpful than low rated shorter length Reviews\n",
    "df5= df1[df1.HelpfulnessDenominator!=0]\n",
    "df5['ratio'] = df5['HelpfulnessNumerator']/df5['HelpfulnessDenominator']\n",
    "df5['ratio']=df5['ratio'].apply(lambda x: 0 if (x < 0.5)  else 1)\n",
    "df5['que'] = df5.apply(lambda x : 1 if ((x['Score'] and x['ratio']) ==1) else 0, axis=1)\n",
    "# print df5.head(3)\n",
    "df5= df5.groupby('que').size()\n",
    "print df5"
   ]
  },
  {
   "cell_type": "code",
   "execution_count": 11,
   "metadata": {},
   "outputs": [
    {
     "data": {
      "image/png": "[encoded data removed]",
      "text/plain": [
       "<matplotlib.figure.Figure at 0x7f9a44940f90>"
      ]
     },
     "metadata": {},
     "output_type": "display_data"
    }
   ],
   "source": [
    "# Plot to show that Positive Reviews are Longer in length\n",
    "df5.plot(kind='bar',color=['g','r'],title='longer reviews are helpul')\n",
    "plt.xlabel('Rating')\n",
    "plt.ylabel('Helpullness')\n",
    "# plt.legend()\n",
    "plt.show()"
   ]
  },
  {
   "cell_type": "markdown",
   "metadata": {},
   "source": [
    "<h2> Model Building Techniques</h2>"
   ]
  },
  {
   "cell_type": "code",
   "execution_count": 41,
   "metadata": {},
   "outputs": [
    {
     "data": {
      "text/plain": [
       "1    275651\n",
       "0     53120\n",
       "Name: Score, dtype: int64"
      ]
     },
     "execution_count": 41,
     "metadata": {},
     "output_type": "execute_result"
    }
   ],
   "source": [
    "#Take only three required columns(Score,Summary, Text) those are necessary in our model\n",
    "df6=final.iloc[:,[6,8,9]]\n",
    "df6= df6[df6.Score != 3]\n",
    "df6['Score']=df6['Score'].apply(lambda x: 1 if (x > 3)  else 0)\n",
    "df6.Score.value_counts()"
   ]
  },
  {
   "cell_type": "markdown",
   "metadata": {},
   "source": [
    "<h2>  To apply Binary Classification Techniques, change the Score to Positive=1 and Negative=0, Therefor response vector becomes either 0 or 1. </h2>"
   ]
  },
  {
   "cell_type": "code",
   "execution_count": 42,
   "metadata": {},
   "outputs": [
    {
     "name": "stdout",
     "output_type": "stream",
     "text": [
      "(328771, 3)\n"
     ]
    },
    {
     "name": "stderr",
     "output_type": "stream",
     "text": [
      "/usr/local/lib/python2.7/dist-packages/ipykernel_launcher.py:2: UserWarning: Boolean Series key will be reindexed to match DataFrame index.\n",
      "  \n"
     ]
    }
   ],
   "source": [
    "# For model building consider 1,2 star rating as 0(Low Rating) and 4,5 included as 1(High  Rating)\n",
    "df6 = df6[pd.notnull(data.Summary)]\n",
    "# df8['Score']=df8['Score'].apply(lambda x: 1 if (x > 3)  else 0)\n",
    "print (df6.shape)\n",
    "# df8.head()\n"
   ]
  },
  {
   "cell_type": "markdown",
   "metadata": {},
   "source": [
    "<h3> Store data in X, Y format and identify shape  </h3>"
   ]
  },
  {
   "cell_type": "code",
   "execution_count": 44,
   "metadata": {},
   "outputs": [
    {
     "name": "stdout",
     "output_type": "stream",
     "text": [
      "(328771,)\n",
      "(328771,)\n"
     ]
    }
   ],
   "source": [
    "# how to define X and y (from the Review  data) for use with COUNTVECTORIZER\n",
    "X = df6.Summary+df6.Text\n",
    "y = df6.Score\n",
    "print(X.shape)\n",
    "print(y.shape) \n"
   ]
  },
  {
   "cell_type": "markdown",
   "metadata": {},
   "source": [
    "<h3> Sklearn function 'train_test_split' is used to split the data into two parts Train and Test dataset</h3>"
   ]
  },
  {
   "cell_type": "code",
   "execution_count": 45,
   "metadata": {},
   "outputs": [
    {
     "name": "stdout",
     "output_type": "stream",
     "text": [
      "(246578,)\n",
      "(82193,)\n",
      "(246578,)\n",
      "(82193,)\n"
     ]
    }
   ],
   "source": [
    "# split X and y into training and testing sets\n",
    "from sklearn.cross_validation import train_test_split\n",
    "X_train, X_test, y_train, y_test = train_test_split(X, y, random_state=1)\n",
    "print(X_train.shape)\n",
    "print(X_test.shape)\n",
    "print(y_train.shape)\n",
    "print(y_test.shape)"
   ]
  },
  {
   "cell_type": "markdown",
   "metadata": {},
   "source": [
    " <h3> Representing Text Data into Numerical dataset</h3> 'CountVectoriser'- Converting Text into Matrix of token counts"
   ]
  },
  {
   "cell_type": "code",
   "execution_count": 46,
   "metadata": {
    "collapsed": true
   },
   "outputs": [],
   "source": [
    "# Create instantiation for CounterVectorizer\n",
    "from sklearn.feature_extraction.text import CountVectorizer\n",
    "vect = CountVectorizer()"
   ]
  },
  {
   "cell_type": "markdown",
   "metadata": {},
   "source": [
    "### Learn Vocabulary from train dataset "
   ]
  },
  {
   "cell_type": "code",
   "execution_count": 47,
   "metadata": {
    "collapsed": true
   },
   "outputs": [
    {
     "name": "stdout",
     "output_type": "stream",
     "text": [
      "<class 'scipy.sparse.csr.csr_matrix'>\n",
      "(246578, 156009)\n",
      "  (0, 35281)\t1\n",
      "  (0, 99575)\t1\n",
      "  (0, 72529)\t1\n",
      "  (0, 123636)\t1\n",
      "  (0, 117549)\t1\n",
      "  (0, 148504)\t1\n",
      "  (0, 57790)\t1\n",
      "  (0, 84682)\t1\n",
      "  (0, 70832)\t1\n",
      "  (0, 61822)\t1\n",
      "  (0, 83582)\t1\n",
      "  (0, 128446)\t1\n",
      "  (0, 65947)\t1\n",
      "  (0, 98927)\t1\n",
      "  (0, 38301)\t1\n",
      "  (0, 69203)\t1\n",
      "  (0, 43451)\t1\n",
      "  (0, 6381)\t1\n",
      "  (0, 140183)\t1\n",
      "  (0, 150061)\t1\n",
      "  (0, 8646)\t1\n",
      "  (0, 74496)\t1\n",
      "  (0, 141310)\t1\n",
      "  (0, 77104)\t1\n"
     ]
    }
   ],
   "source": [
    "X_train_dtm = vect.fit_transform(X_train)\n",
    "X_train_dtm\n",
    "print type(X_train_dtm)\n",
    "print (X_train_dtm.shape)\n",
    "print X_train_dtm[5,:]"
   ]
  },
  {
   "cell_type": "markdown",
   "metadata": {},
   "source": [
    "## Conclusion:-\n",
    "#### The Strategy of tokenization, Counting and Normalization is called BoW(Bag of Words). It is completely ignoring the order in which words occur within text. Keep only the frequency of words."
   ]
  },
  {
   "cell_type": "code",
   "execution_count": 48,
   "metadata": {
    "scrolled": true
   },
   "outputs": [
    {
     "data": {
      "text/plain": [
       "<82193x156009 sparse matrix of type '<type 'numpy.int64'>'\n",
       "\twith 4476476 stored elements in Compressed Sparse Row format>"
      ]
     },
     "execution_count": 48,
     "metadata": {},
     "output_type": "execute_result"
    }
   ],
   "source": [
    "# transform testing data (using fitted vocabulary) into a document-term matrix\n",
    "X_test_dtm = vect.transform(X_test)\n",
    "X_test_dtm"
   ]
  },
  {
   "cell_type": "markdown",
   "metadata": {},
   "source": [
    "<h3>Model Building Using Naive Bayes</h3>"
   ]
  },
  {
   "cell_type": "code",
   "execution_count": 49,
   "metadata": {
    "collapsed": true,
    "scrolled": false
   },
   "outputs": [],
   "source": [
    "# Create instantiation of Multinomial Naive bayes and from that check about various parameters\n",
    "#by default laplace smooting i.e. alpha=1.0\n",
    "from sklearn.naive_bayes import MultinomialNB\n",
    "nb = MultinomialNB()\n"
   ]
  },
  {
   "cell_type": "code",
   "execution_count": 50,
   "metadata": {},
   "outputs": [
    {
     "name": "stdout",
     "output_type": "stream",
     "text": [
      "CPU times: user 296 ms, sys: 160 ms, total: 456 ms\n",
      "Wall time: 2.89 s\n"
     ]
    },
    {
     "data": {
      "text/plain": [
       "MultinomialNB(alpha=1.0, class_prior=None, fit_prior=True)"
      ]
     },
     "execution_count": 50,
     "metadata": {},
     "output_type": "execute_result"
    }
   ],
   "source": [
    "# train the model using X_train_dtm (timing it with an IPython \"magic command\")\n",
    "# to know how much time this command will take for execution\n",
    "%time nb.fit(X_train_dtm, y_train)"
   ]
  },
  {
   "cell_type": "code",
   "execution_count": 51,
   "metadata": {},
   "outputs": [
    {
     "name": "stdout",
     "output_type": "stream",
     "text": [
      "<class 'scipy.sparse.csr.csr_matrix'>\n",
      "(246578, 156009)\n",
      "  (0, 7584)\t1\n",
      "  (0, 8766)\t2\n",
      "  (0, 8969)\t1\n",
      "  (0, 23937)\t1\n",
      "  (0, 24112)\t2\n",
      "  (0, 31714)\t1\n",
      "  (0, 33347)\t4\n",
      "  (0, 44667)\t1\n",
      "  (0, 46355)\t1\n",
      "  (0, 46514)\t1\n",
      "  (0, 47759)\t2\n",
      "  (0, 52195)\t1\n",
      "  (0, 54699)\t1\n",
      "  (0, 55341)\t2\n",
      "  (0, 58584)\t3\n",
      "  (0, 58941)\t1\n",
      "  (0, 60779)\t1\n",
      "  (0, 62302)\t1\n",
      "  (0, 62539)\t1\n",
      "  (0, 64328)\t1\n",
      "  (0, 69517)\t1\n",
      "  (0, 69646)\t1\n",
      "  (0, 74637)\t1\n",
      "  (0, 74927)\t1\n",
      "  (0, 75528)\t2\n",
      "  :\t:\n",
      "  (82192, 119853)\t1\n",
      "  (82192, 120487)\t1\n",
      "  (82192, 124069)\t1\n",
      "  (82192, 131156)\t2\n",
      "  (82192, 132362)\t2\n",
      "  (82192, 133219)\t1\n",
      "  (82192, 133837)\t3\n",
      "  (82192, 136954)\t1\n",
      "  (82192, 137198)\t2\n",
      "  (82192, 138655)\t2\n",
      "  (82192, 139367)\t3\n",
      "  (82192, 139399)\t10\n",
      "  (82192, 140087)\t1\n",
      "  (82192, 140183)\t3\n",
      "  (82192, 141310)\t5\n",
      "  (82192, 141758)\t1\n",
      "  (82192, 143473)\t1\n",
      "  (82192, 146566)\t2\n",
      "  (82192, 149976)\t2\n",
      "  (82192, 150006)\t1\n",
      "  (82192, 150488)\t1\n",
      "  (82192, 151591)\t1\n",
      "  (82192, 151870)\t1\n",
      "  (82192, 152249)\t2\n",
      "  (82192, 154462)\t2\n"
     ]
    }
   ],
   "source": [
    "# Visulize the effects on term matrix after fitted vocabulary in the model\n",
    "print type(X_train_dtm)\n",
    "print (X_train_dtm.shape)\n",
    "print (X_test_dtm)"
   ]
  },
  {
   "cell_type": "code",
   "execution_count": 52,
   "metadata": {},
   "outputs": [
    {
     "name": "stdout",
     "output_type": "stream",
     "text": [
      "[0 1 1 ..., 1 0 1]\n"
     ]
    }
   ],
   "source": [
    "# Predict function is used to predict to which class Test Review Belongs to.\n",
    "y_pred_class = nb.predict(X_test_dtm)\n",
    "print y_pred_class"
   ]
  },
  {
   "cell_type": "code",
   "execution_count": 53,
   "metadata": {
    "scrolled": true
   },
   "outputs": [
    {
     "name": "stdout",
     "output_type": "stream",
     "text": [
      "[[ 9820  3414]\n",
      " [ 2912 66047]]\n"
     ]
    }
   ],
   "source": [
    "# print the confusion matrix\n",
    "from sklearn.metrics import confusion_matrix\n",
    "from sklearn import metrics\n",
    "gb=metrics.confusion_matrix(y_test, y_pred_class)\n",
    "print gb"
   ]
  },
  {
   "cell_type": "code",
   "execution_count": 54,
   "metadata": {},
   "outputs": [
    {
     "data": {
      "image/png": "[encoded data removed]",
      "text/plain": [
       "<matplotlib.figure.Figure at 0x7f921d5d1a90>"
      ]
     },
     "metadata": {},
     "output_type": "display_data"
    }
   ],
   "source": [
    "#Plot of Confusion Metric\n",
    "import matplotlib as plt\n",
    "from sklearn.metrics import confusion_matrix\n",
    "import pylab as pl\n",
    "pl.matshow(gb)\n",
    "# cm = metrics.confusion_matrix(y_test, y_pred_class, labels=['FAKE', 'REAL'])\n",
    "pl.title('Confusion matrix')\n",
    "pl.colorbar()\n",
    "pl.show()"
   ]
  },
  {
   "cell_type": "markdown",
   "metadata": {},
   "source": [
    "<h3> Accuracy =TP+TN/TP+TN+FP+FN </h3>"
   ]
  },
  {
   "cell_type": "code",
   "execution_count": 55,
   "metadata": {
    "scrolled": false
   },
   "outputs": [
    {
     "name": "stdout",
     "output_type": "stream",
     "text": [
      "0.923034808317\n"
     ]
    }
   ],
   "source": [
    "# calculate accuracy of class predictions\n",
    "from sklearn import metrics\n",
    "acc= metrics.accuracy_score(y_test, y_pred_class)\n",
    "print acc"
   ]
  },
  {
   "cell_type": "markdown",
   "metadata": {},
   "source": [
    "<h4>Classification Error, Counts the Diagonal Off elements\n",
    " FP+FN / (TP+TN+FP+FN)</h4>"
   ]
  },
  {
   "cell_type": "code",
   "execution_count": 56,
   "metadata": {},
   "outputs": [
    {
     "name": "stdout",
     "output_type": "stream",
     "text": [
      "0.076965191683\n"
     ]
    }
   ],
   "source": [
    "#eqivalent to 1-accuracy\n",
    "error=1-acc\n",
    "print error"
   ]
  },
  {
   "cell_type": "markdown",
   "metadata": {},
   "source": [
    "<h2> Precision-Recall</h2>\n",
    "<h5>Recall- True Positive Rate or Senstivity or probability of detection\n",
    "TPR=TP/TP+FN. It defines what fraction of all positive instances does the classifier correctly identify as positive</h5>"
   ]
  },
  {
   "cell_type": "code",
   "execution_count": 57,
   "metadata": {},
   "outputs": [
    {
     "name": "stdout",
     "output_type": "stream",
     "text": [
      "0.957772009455\n"
     ]
    }
   ],
   "source": [
    "#Recall From above Confusion Metric \n",
    "recall=(gb[1,1]+0.0)/sum(gb[1,:])\n",
    "print recall"
   ]
  },
  {
   "cell_type": "markdown",
   "metadata": {},
   "source": [
    "<h5>Precision- \n",
    "TPR=TP/TP+FP. It defines what fraction of positive predictions are correct</h5>"
   ]
  },
  {
   "cell_type": "code",
   "execution_count": 58,
   "metadata": {
    "scrolled": true
   },
   "outputs": [
    {
     "name": "stdout",
     "output_type": "stream",
     "text": [
      "0.950850117332\n"
     ]
    }
   ],
   "source": [
    "#precision From above Confusion Metric\n",
    "pre=(gb[1,1]+0.0)/sum(gb[:,1])\n",
    "print pre"
   ]
  },
  {
   "cell_type": "markdown",
   "metadata": {},
   "source": [
    "\n",
    "<h3>F1- Score Combining Precision and Recall in to a Single number\n",
    "F1= (2*Precision * Recall)/(Precision+Recall) </h3>"
   ]
  },
  {
   "cell_type": "code",
   "execution_count": 59,
   "metadata": {
    "scrolled": true
   },
   "outputs": [
    {
     "name": "stdout",
     "output_type": "stream",
     "text": [
      "0.954298511776\n"
     ]
    }
   ],
   "source": [
    "# caculating F1 Score By using HP i.e \n",
    "#F1=2*TP/2*TP+FP+FN\n",
    "F1=(2*pre*recall)/(pre+recall)\n",
    "print F1"
   ]
  },
  {
   "cell_type": "markdown",
   "metadata": {},
   "source": [
    "<h2>Evaluation Metrices By Using sklearn Lib</h2>"
   ]
  },
  {
   "cell_type": "code",
   "execution_count": 60,
   "metadata": {
    "scrolled": true
   },
   "outputs": [
    {
     "name": "stdout",
     "output_type": "stream",
     "text": [
      "('Accuracy', 0.92303480831701001)\n",
      "('Recall', 0.95777200945489349)\n",
      "('Precision', 0.95085011733202807)\n",
      "('F1-Score', 0.95429851177575498)\n"
     ]
    }
   ],
   "source": [
    "# from sklearn.metrics import accuracy_score, recall_score, precision_score, f1_score\n",
    "# Accuracy must be greater than 84% in this case because without any model text belong to positive class\n",
    "# is 84%, this is imbalanced data set\n",
    "print('Accuracy', metrics.accuracy_score(y_test, y_pred_class))\n",
    "print('Recall',metrics.recall_score(y_test,y_pred_class))\n",
    "print('Precision' ,metrics.precision_score(y_test,y_pred_class))\n",
    "print('F1-Score',metrics.f1_score(y_test,y_pred_class))\n"
   ]
  },
  {
   "cell_type": "code",
   "execution_count": 61,
   "metadata": {},
   "outputs": [
    {
     "name": "stdout",
     "output_type": "stream",
     "text": [
      "             precision    recall  f1-score   support\n",
      "\n",
      "   Negative       0.77      0.74      0.76     13234\n",
      "   Positive       0.95      0.96      0.95     68959\n",
      "\n",
      "avg / total       0.92      0.92      0.92     82193\n",
      "\n"
     ]
    }
   ],
   "source": [
    "from sklearn.metrics import classification_report\n",
    "print classification_report(y_test,y_pred_class,target_names=['Negative','Positive'])"
   ]
  },
  {
   "cell_type": "code",
   "execution_count": 62,
   "metadata": {
    "scrolled": true
   },
   "outputs": [
    {
     "data": {
      "text/plain": [
       "<bound method Series.count of 402400    NastyRanch is my favorite dressing and I know ...\n",
       "504035    Peanut flavored oily spoogeI'm used to Peter P...\n",
       "481303    These are not Green Lentils -All the labeling ...\n",
       "434991    Not for me.Personally, this was not strong eno...\n",
       "540099    Great for your gums, but ironically terrible f...\n",
       "484561    Didn't seem to work for me.For what ever reaso...\n",
       "192047    not worth the caloriesThese cookies are dry an...\n",
       "564047    Temptations could do SO much better!Well first...\n",
       "371923    Dont Buy Falls apart VERY easily!!!!I bought o...\n",
       "225963    Way overpricedPreposterous.  This is over twic...\n",
       "493733    Not my favorite way to start the day...I did n...\n",
       "451582    Celiac CAUTION: Contains Barley MaltWhen first...\n",
       "88279     Price GougingI started buying these about 6 ye...\n",
       "280511    Too much sugar for my taste, contains wheatI w...\n",
       "82588     not much flavorI like some of the other flavor...\n",
       "179250    With the recent changes, Cost outweighs, Disap...\n",
       "89646     It scores about a 5 out of 10 on quality, a 2 ...\n",
       "322221    so garlicky my son is emitting the smell from ...\n",
       "91563     NASSSTYNot bad tasting but it is not for every...\n",
       "548457    be awareMy issue with this product is that not...\n",
       "391945    Where is the Bergamot flavor??I was expecting ...\n",
       "158226    WorthlessGot it for my German Shepherd and Lab...\n",
       "228438    PRICE RIPOFF!Amazon offers no bargain.  The fr...\n",
       "189204    So-so poultry gravy mixI've only tried it once...\n",
       "207590    Bummer!My husband and I were so excited to try...\n",
       "65434     I like the idea, but...These things are absolu...\n",
       "352656    HAS GLUTEN IN IT!!!!!Second item you can't tru...\n",
       "461788    NOT good foodLong time online shopper, but fir...\n",
       "367832    Bleck the taste!I buy and use coconut oil ofte...\n",
       "323007    very expensiveUnbleached flour should be no mo...\n",
       "                                ...                        \n",
       "372274    Not so tastyThis is just okay.  I added a litt...\n",
       "353586    Lime ade lightI've tried at least 3 other Crys...\n",
       "29932     too expensive nowLast month I paid $12 for 6 o...\n",
       "308693    FROM CONCENTRATE!!!!!!  how is it 100% juice??...\n",
       "461925    are you kidding?don't pay more than $4 for thi...\n",
       "81247     Boo, plastic cylinders.  Gatorade loses its en...\n",
       "254014    HARD laffy taffyCandy is not fresh.  It is now...\n",
       "486843    Stale PopcornWe are disappointed with the Grea...\n",
       "247350    Lipton cup a -soupLipton soup is a good soup b...\n",
       "213736    Oh well...My friend and I are always looking f...\n",
       "184591    Most cats won't eat thisMy cat turned up her n...\n",
       "72541     They don't like 'em . . . .I can't really spea...\n",
       "164984    ick!I got this loose leaf tea for both friends...\n",
       "114281    price a little highYou can buy this product at...\n",
       "77836     Another great concept with not-as-great execut...\n",
       "76905     yuktastes great at first.. then the after tast...\n",
       "111766    thickMy 10 month baby can not eat it. it is te...\n",
       "311435    Not very goodDesperate for a way to make a low...\n",
       "184086    Leaky and messyIt's just a plastic cap that co...\n",
       "262618    dog likes it.My dog  likes this food, but it d...\n",
       "24875     Carbquik tastes like bisquikI suppose some peo...\n",
       "164313    diet dietI found it to be much more flavored w...\n",
       "444254    Banana bread is twice the price of the other f...\n",
       "19434     Italian Pocket Coffee-BenissimoI lived in Ital...\n",
       "183832    OverpricedSoooooooo tired of being charged sup...\n",
       "480769    Reduction in size!!!I have been buying these f...\n",
       "189849    I bought this for my hairI bought this for my ...\n",
       "235460    Non AuthenticThis must be a joke.  The Taco se...\n",
       "3718      WateryThese were a little disappointing. The h...\n",
       "162304    Light-weightI thought I' try this flavor in th...\n",
       "Length: 3414, dtype: object>"
      ]
     },
     "execution_count": 62,
     "metadata": {},
     "output_type": "execute_result"
    }
   ],
   "source": [
    "# print message text for the false positives (positive review incorrectly classified as negative)\n",
    "X_test[(y_pred_class==1)&(y_test==0)].count"
   ]
  },
  {
   "cell_type": "code",
   "execution_count": 63,
   "metadata": {
    "scrolled": true
   },
   "outputs": [
    {
     "data": {
      "text/plain": [
       "array([  2.48212940e-04,   9.99999996e-01,   9.94759596e-01, ...,\n",
       "         9.98729328e-01,   1.59501890e-01,   9.99999995e-01])"
      ]
     },
     "execution_count": 63,
     "metadata": {},
     "output_type": "execute_result"
    }
   ],
   "source": [
    "# calculate predicted probabilities for X_test_dtm \n",
    "# We predict the class-membership probability of the samples via the predict_proba method.\n",
    "y_pred_prob = nb.predict_proba(X_test_dtm)[:,1]\n",
    "y_pred_prob"
   ]
  },
  {
   "cell_type": "code",
   "execution_count": 64,
   "metadata": {
    "scrolled": true
   },
   "outputs": [
    {
     "name": "stdout",
     "output_type": "stream",
     "text": [
      "0.943826389795\n"
     ]
    }
   ],
   "source": [
    "# calculate AUC with probabilities values\n",
    "roc_auc=metrics.roc_auc_score(y_test, y_pred_prob)\n",
    "print roc_auc"
   ]
  },
  {
   "cell_type": "code",
   "execution_count": 65,
   "metadata": {},
   "outputs": [
    {
     "name": "stdout",
     "output_type": "stream",
     "text": [
      "('ROC Rate', 0.94382638979543754)\n"
     ]
    },
    {
     "data": {
      "image/png": "[encoded data removed]",
      "text/plain": [
       "<matplotlib.figure.Figure at 0x7f9219410290>"
      ]
     },
     "metadata": {},
     "output_type": "display_data"
    }
   ],
   "source": [
    "# calculate AUC without probabilities values\n",
    "from sklearn.metrics import roc_curve, auc\n",
    "import matplotlib.pyplot as plt\n",
    "import random\n",
    "false_positive_rate, true_positive_rate, thresholds = roc_curve(y_test, y_pred_prob)\n",
    "roc_auc = auc(false_positive_rate, true_positive_rate)\n",
    "print('ROC Rate', roc_auc)\n",
    "plt.title('Receiver Operating Characteristic')\n",
    "plt.plot(false_positive_rate, true_positive_rate, 'g',\n",
    "label='AUC = %0.2f'% roc_auc)\n",
    "plt.legend(loc='lower right')\n",
    "plt.plot([0,1],[0,1],'r--')\n",
    "plt.xlim([-0.1,1.2])\n",
    "plt.ylim([-0.1,1.2])\n",
    "plt.ylabel('True Positive Rate')\n",
    "plt.xlabel('False Positive Rate')\n",
    "plt.show()"
   ]
  },
  {
   "cell_type": "markdown",
   "metadata": {},
   "source": [
    "<h4>Compute Log Loss</h4>"
   ]
  },
  {
   "cell_type": "code",
   "execution_count": 66,
   "metadata": {
    "scrolled": true
   },
   "outputs": [
    {
     "name": "stdout",
     "output_type": "stream",
     "text": [
      "0.39797765899\n"
     ]
    }
   ],
   "source": [
    "from sklearn.metrics import log_loss\n",
    "log_error=log_loss(y_test, y_pred_prob)\n",
    "print log_error"
   ]
  },
  {
   "cell_type": "markdown",
   "metadata": {},
   "source": [
    "<h3>Logestic Regression</h3>"
   ]
  },
  {
   "cell_type": "code",
   "execution_count": 67,
   "metadata": {
    "collapsed": true
   },
   "outputs": [],
   "source": [
    "from sklearn.linear_model import LogisticRegression\n",
    "logreg = LogisticRegression()\n"
   ]
  },
  {
   "cell_type": "code",
   "execution_count": 68,
   "metadata": {},
   "outputs": [
    {
     "name": "stdout",
     "output_type": "stream",
     "text": [
      "CPU times: user 3min 28s, sys: 0 ns, total: 3min 28s\n",
      "Wall time: 3min 36s\n"
     ]
    },
    {
     "data": {
      "text/plain": [
       "LogisticRegression(C=1.0, class_weight=None, dual=False, fit_intercept=True,\n",
       "          intercept_scaling=1, max_iter=100, multi_class='ovr', n_jobs=1,\n",
       "          penalty='l2', random_state=None, solver='liblinear', tol=0.0001,\n",
       "          verbose=0, warm_start=False)"
      ]
     },
     "execution_count": 68,
     "metadata": {},
     "output_type": "execute_result"
    }
   ],
   "source": [
    "# train the model using X_train_dtm\n",
    "%time logreg.fit(X_train_dtm, y_train)"
   ]
  },
  {
   "cell_type": "code",
   "execution_count": 69,
   "metadata": {},
   "outputs": [
    {
     "name": "stdout",
     "output_type": "stream",
     "text": [
      "[0 1 1 ..., 1 0 1]\n"
     ]
    }
   ],
   "source": [
    "# make class predictions for X_test_dtm\n",
    "y1_pred_class = logreg.predict(X_test_dtm)\n",
    "print y1_pred_class"
   ]
  },
  {
   "cell_type": "code",
   "execution_count": 70,
   "metadata": {
    "scrolled": true
   },
   "outputs": [
    {
     "name": "stdout",
     "output_type": "stream",
     "text": [
      "[[10269  2965]\n",
      " [ 1839 67120]]\n"
     ]
    }
   ],
   "source": [
    "# print the confusion matrix\n",
    "cm= metrics.confusion_matrix(y_test, y1_pred_class)\n",
    "print cm"
   ]
  },
  {
   "cell_type": "code",
   "execution_count": 71,
   "metadata": {},
   "outputs": [
    {
     "data": {
      "image/png": "[encoded data removed]",
      "text/plain": [
       "<matplotlib.figure.Figure at 0x7f9220571710>"
      ]
     },
     "metadata": {},
     "output_type": "display_data"
    }
   ],
   "source": [
    "# Plot confusion Metric\n",
    "import matplotlib as plt\n",
    "from sklearn.metrics import confusion_matrix\n",
    "import pylab as pl\n",
    "pl.matshow(cm)\n",
    "pl.title('Confusion matrix')\n",
    "pl.colorbar()\n",
    "pl.show()"
   ]
  },
  {
   "cell_type": "code",
   "execution_count": 72,
   "metadata": {},
   "outputs": [
    {
     "data": {
      "text/plain": [
       "array([ 0.00644922,  0.99976507,  0.97654491, ...,  0.99180791,\n",
       "        0.40633496,  0.98563874])"
      ]
     },
     "execution_count": 72,
     "metadata": {},
     "output_type": "execute_result"
    }
   ],
   "source": [
    "# calculate predicted probabilities for X_test_dtm (well calibrated)\n",
    "y1_pred_prob = logreg.predict_proba(X_test_dtm)[:,1]\n",
    "y1_pred_prob"
   ]
  },
  {
   "cell_type": "code",
   "execution_count": 73,
   "metadata": {},
   "outputs": [
    {
     "name": "stdout",
     "output_type": "stream",
     "text": [
      "('ROC Rate', 0.96410475373570992)\n"
     ]
    }
   ],
   "source": [
    "# Calculating ROC Rate\n",
    "false_positive_rate, true_positive_rate, thresholds = roc_curve(y_test, y1_pred_prob)\n",
    "roc_lg = auc(false_positive_rate, true_positive_rate)\n",
    "print('ROC Rate', roc_lg)"
   ]
  },
  {
   "cell_type": "code",
   "execution_count": 74,
   "metadata": {},
   "outputs": [
    {
     "data": {
      "image/png": "[encoded data removed]",
      "text/plain": [
       "<matplotlib.figure.Figure at 0x7f922112db90>"
      ]
     },
     "metadata": {},
     "output_type": "display_data"
    }
   ],
   "source": [
    "# PLot AUC For Logistic Regression\n",
    "from sklearn.metrics import roc_curve, auc\n",
    "import matplotlib.pyplot as plt\n",
    "import random\n",
    "plt.title('Receiver Operating Characteristic')\n",
    "plt.plot(false_positive_rate, true_positive_rate, 'b',\n",
    "label='AUC = %0.2f'% roc_lg)\n",
    "plt.legend(loc='lower right')\n",
    "plt.plot([0,1],[0,1],'r--')\n",
    "plt.xlim([-0.1,1.2])\n",
    "plt.ylim([-0.1,1.2])\n",
    "plt.ylabel('True Positive Rate')\n",
    "plt.xlabel('False Positive Rate')\n",
    "plt.show()"
   ]
  },
  {
   "cell_type": "markdown",
   "metadata": {},
   "source": [
    "<h4>Computing Logg Loss</h4>"
   ]
  },
  {
   "cell_type": "code",
   "execution_count": 75,
   "metadata": {
    "scrolled": true
   },
   "outputs": [
    {
     "name": "stdout",
     "output_type": "stream",
     "text": [
      "0.173947534993\n"
     ]
    }
   ],
   "source": [
    "# With Probabilities\n",
    "from sklearn.metrics import log_loss\n",
    "log_error=log_loss(y_test, y1_pred_prob)\n",
    "print log_error"
   ]
  },
  {
   "cell_type": "markdown",
   "metadata": {},
   "source": [
    "<h4>Evaluation Metrics for Logestic Regression</h4>"
   ]
  },
  {
   "cell_type": "code",
   "execution_count": 76,
   "metadata": {
    "scrolled": false
   },
   "outputs": [
    {
     "name": "stdout",
     "output_type": "stream",
     "text": [
      "('Accuracy', 0.94155220030902875)\n",
      "('Recall', 0.97333197987209796)\n",
      "('Precision', 0.957694228436898)\n",
      "('F1 Score', 0.96544978567935325)\n"
     ]
    }
   ],
   "source": [
    "# calculate accuracy,precision,recall,F1 score\n",
    "print('Accuracy', metrics.accuracy_score(y_test, y1_pred_class))\n",
    "print('Recall', metrics.recall_score(y_test,y1_pred_class))\n",
    "print('Precision', metrics.precision_score(y_test,y1_pred_class))\n",
    "print('F1 Score', metrics.f1_score(y_test,y1_pred_class))"
   ]
  },
  {
   "cell_type": "code",
   "execution_count": 77,
   "metadata": {},
   "outputs": [
    {
     "name": "stdout",
     "output_type": "stream",
     "text": [
      "             precision    recall  f1-score   support\n",
      "\n",
      "   Negative       0.85      0.78      0.81     13234\n",
      "   Positive       0.96      0.97      0.97     68959\n",
      "\n",
      "avg / total       0.94      0.94      0.94     82193\n",
      "\n"
     ]
    }
   ],
   "source": [
    "#  classification_report\n",
    "print classification_report(y_test,y1_pred_class,target_names=['Negative','Positive'])"
   ]
  },
  {
   "cell_type": "markdown",
   "metadata": {},
   "source": [
    "<h4>Logestic Regression through L1 Regularization</h4>"
   ]
  },
  {
   "cell_type": "code",
   "execution_count": 78,
   "metadata": {},
   "outputs": [
    {
     "name": "stdout",
     "output_type": "stream",
     "text": [
      "CPU times: user 25.1 s, sys: 444 ms, total: 25.6 s\n",
      "Wall time: 33.6 s\n"
     ]
    },
    {
     "data": {
      "text/plain": [
       "LogisticRegression(C=1, class_weight=None, dual=False, fit_intercept=True,\n",
       "          intercept_scaling=1, max_iter=100, multi_class='ovr', n_jobs=1,\n",
       "          penalty='l1', random_state=None, solver='liblinear', tol=0.0001,\n",
       "          verbose=0, warm_start=False)"
      ]
     },
     "execution_count": 78,
     "metadata": {},
     "output_type": "execute_result"
    }
   ],
   "source": [
    "from sklearn.linear_model import LogisticRegression\n",
    "logreg1 = LogisticRegression(penalty='l1',C=1)\n",
    "%time logreg1.fit(X_train_dtm, y_train)"
   ]
  },
  {
   "cell_type": "code",
   "execution_count": 79,
   "metadata": {
    "collapsed": true,
    "scrolled": true
   },
   "outputs": [],
   "source": [
    "# make class predictions for X_test_dtm\n",
    "y2_pred_class = logreg1.predict(X_test_dtm)"
   ]
  },
  {
   "cell_type": "code",
   "execution_count": 80,
   "metadata": {},
   "outputs": [
    {
     "name": "stdout",
     "output_type": "stream",
     "text": [
      "[[10246  2988]\n",
      " [ 1899 67060]]\n"
     ]
    }
   ],
   "source": [
    "# print the confusion matrix\n",
    "cml1= metrics.confusion_matrix(y_test, y2_pred_class)\n",
    "print cml1"
   ]
  },
  {
   "cell_type": "code",
   "execution_count": 81,
   "metadata": {
    "scrolled": true
   },
   "outputs": [
    {
     "data": {
      "image/png": "[encoded data removed]",
      "text/plain": [
       "<matplotlib.figure.Figure at 0x7f922061fb90>"
      ]
     },
     "metadata": {},
     "output_type": "display_data"
    }
   ],
   "source": [
    "# Plot confusion Metric\n",
    "import matplotlib as plt\n",
    "from sklearn.metrics import confusion_matrix\n",
    "import pylab as pl\n",
    "pl.matshow(cml1)\n",
    "pl.title('Confusion matrix')\n",
    "pl.colorbar()\n",
    "pl.show()"
   ]
  },
  {
   "cell_type": "code",
   "execution_count": 82,
   "metadata": {},
   "outputs": [
    {
     "data": {
      "text/plain": [
       "array([ 0.00644922,  0.99976507,  0.97654491, ...,  0.99180791,\n",
       "        0.40633496,  0.98563874])"
      ]
     },
     "execution_count": 82,
     "metadata": {},
     "output_type": "execute_result"
    }
   ],
   "source": [
    "y2_pred_prob = logreg.predict_proba(X_test_dtm)[:,1]\n",
    "y2_pred_prob"
   ]
  },
  {
   "cell_type": "code",
   "execution_count": 83,
   "metadata": {},
   "outputs": [
    {
     "name": "stdout",
     "output_type": "stream",
     "text": [
      "('ROC Rate', 0.96410475373570992)\n"
     ]
    }
   ],
   "source": [
    "# Calculating ROC Rate\n",
    "false_positive_rate, true_positive_rate, thresholds = roc_curve(y_test, y2_pred_prob)\n",
    "roc_lg = auc(false_positive_rate, true_positive_rate)\n",
    "print('ROC Rate', roc_lg)"
   ]
  },
  {
   "cell_type": "code",
   "execution_count": 84,
   "metadata": {},
   "outputs": [
    {
     "data": {
      "image/png": "[encoded data removed]",
      "text/plain": [
       "<matplotlib.figure.Figure at 0x7f921ea23510>"
      ]
     },
     "metadata": {},
     "output_type": "display_data"
    }
   ],
   "source": [
    "from matplotlib import pyplot as plt\n",
    "plt.title('Receiver Operating Characteristic')\n",
    "plt.plot(false_positive_rate, true_positive_rate, 'g',\n",
    "label='AUC = %0.2f'% roc_lg)\n",
    "plt.legend(loc='lower right')\n",
    "plt.plot([0,1],[0,1],'r--')\n",
    "plt.xlim([-0.1,1.2])\n",
    "plt.ylim([-0.1,1.2])\n",
    "plt.ylabel('True Positive Rate')\n",
    "plt.xlabel('False Positive Rate')\n",
    "plt.show()"
   ]
  },
  {
   "cell_type": "code",
   "execution_count": 85,
   "metadata": {
    "scrolled": true
   },
   "outputs": [
    {
     "name": "stdout",
     "output_type": "stream",
     "text": [
      "('ROC Rate', 0.96410475373570992)\n"
     ]
    }
   ],
   "source": [
    "# Calculating ROC Rate\n",
    "false_positive_rate, true_positive_rate, thresholds = roc_curve(y_test, y2_pred_prob)\n",
    "roc_lg = auc(false_positive_rate, true_positive_rate)\n",
    "print('ROC Rate', roc_lg)"
   ]
  },
  {
   "cell_type": "code",
   "execution_count": 86,
   "metadata": {
    "scrolled": true
   },
   "outputs": [
    {
     "name": "stdout",
     "output_type": "stream",
     "text": [
      "('Accuracy', 0.94054238195466766)\n",
      "('Recall', 0.97246189764932789)\n",
      "('Precision', 0.95734353586112375)\n",
      "('F1 Score', 0.96484349709007466)\n"
     ]
    }
   ],
   "source": [
    "# calculate accuracy,precision,recall,F1 score\n",
    "print('Accuracy', metrics.accuracy_score(y_test, y2_pred_class))\n",
    "print('Recall', metrics.recall_score(y_test,y2_pred_class))\n",
    "print('Precision', metrics.precision_score(y_test,y2_pred_class))\n",
    "print('F1 Score', metrics.f1_score(y_test,y2_pred_class))"
   ]
  },
  {
   "cell_type": "markdown",
   "metadata": {},
   "source": [
    "<h4> computing Log Loss</h4>"
   ]
  },
  {
   "cell_type": "code",
   "execution_count": 87,
   "metadata": {},
   "outputs": [
    {
     "name": "stdout",
     "output_type": "stream",
     "text": [
      "0.173947534993\n"
     ]
    }
   ],
   "source": [
    "# With Probabilities\n",
    "from sklearn.metrics import log_loss\n",
    "log_error=log_loss(y_test, y2_pred_prob)\n",
    "print log_error"
   ]
  },
  {
   "cell_type": "markdown",
   "metadata": {},
   "source": [
    "<h2>Examining Model</h2>"
   ]
  },
  {
   "cell_type": "code",
   "execution_count": 88,
   "metadata": {
    "scrolled": true
   },
   "outputs": [
    {
     "data": {
      "text/plain": [
       "156009"
      ]
     },
     "execution_count": 88,
     "metadata": {},
     "output_type": "execute_result"
    }
   ],
   "source": [
    "# store the vocabulary of X_train\n",
    "X_train_tokens = vect.get_feature_names()\n",
    "len(X_train_tokens)"
   ]
  },
  {
   "cell_type": "code",
   "execution_count": 89,
   "metadata": {},
   "outputs": [
    {
     "name": "stdout",
     "output_type": "stream",
     "text": [
      "[u'00', u'000', u'0000', u'000001', u'00001', u'0001', u'000111052', u'000iu', u'000kwh', u'000mg', u'000s', u'000su', u'000usd', u'000v', u'001', u'00100', u'001bru', u'002', u'0020100604', u'00202', u'00227', u'004', u'00493', u'005', u'00533', u'0060187654', u'0060721855', u'0067575986', u'0069615', u'007', u'00703', u'00704', u'0071468633', u'0071477845', u'008', u'0099', u'00a', u'00absolutely', u'00am', u'00as', u'00b', u'00g', u'00gr', u'00just', u'00lb', u'00pm', u'00s', u'00something', u'00the', u'00to']\n"
     ]
    }
   ],
   "source": [
    "# examine the first 50 tokens\n",
    "print(X_train_tokens[0:50])"
   ]
  },
  {
   "cell_type": "code",
   "execution_count": 90,
   "metadata": {
    "scrolled": true
   },
   "outputs": [
    {
     "data": {
      "text/plain": [
       "array([[  7.82000000e+02,   7.50000000e+01,   0.00000000e+00, ...,\n",
       "          0.00000000e+00,   1.00000000e+00,   0.00000000e+00],\n",
       "       [  1.71500000e+03,   2.84000000e+02,   4.00000000e+00, ...,\n",
       "          1.00000000e+00,   0.00000000e+00,   1.00000000e+00]])"
      ]
     },
     "execution_count": 90,
     "metadata": {},
     "output_type": "execute_result"
    }
   ],
   "source": [
    "# Naive Bayes counts the number of times each token appears in each class\n",
    "# row 1 represents number of times Low rated reviews token appear and row 2corresponds to high rated Reviews tokens\n",
    "# Leading underscore is Scikit learn convention that the functionality learns while fitting, use by (_)\n",
    "nb.feature_count_"
   ]
  },
  {
   "cell_type": "code",
   "execution_count": 91,
   "metadata": {
    "scrolled": true
   },
   "outputs": [
    {
     "data": {
      "text/plain": [
       "(2, 156009)"
      ]
     },
     "execution_count": 91,
     "metadata": {},
     "output_type": "execute_result"
    }
   ],
   "source": [
    "# rows represent classes, columns represent tokens\n",
    "nb.feature_count_.shape"
   ]
  },
  {
   "cell_type": "code",
   "execution_count": 94,
   "metadata": {
    "scrolled": true
   },
   "outputs": [
    {
     "data": {
      "text/plain": [
       "array([ 782.,   75.,    0., ...,    0.,    1.,    0.])"
      ]
     },
     "execution_count": 94,
     "metadata": {},
     "output_type": "execute_result"
    }
   ],
   "source": [
    "# number of times each token appears across all Negative REVIEWS\n",
    "# here we just slicing above feature count\n",
    "neg_token_count = nb.feature_count_[0, :]\n",
    "neg_token_count"
   ]
  },
  {
   "cell_type": "code",
   "execution_count": 93,
   "metadata": {
    "scrolled": true
   },
   "outputs": [
    {
     "data": {
      "text/plain": [
       "array([  1.71500000e+03,   2.84000000e+02,   4.00000000e+00, ...,\n",
       "         1.00000000e+00,   0.00000000e+00,   1.00000000e+00])"
      ]
     },
     "execution_count": 93,
     "metadata": {},
     "output_type": "execute_result"
    }
   ],
   "source": [
    "# number of times each token appears across all POSITIVE REVIEWS\n",
    "pos_token_count = nb.feature_count_[1, :]\n",
    "pos_token_count"
   ]
  },
  {
   "cell_type": "code",
   "execution_count": 95,
   "metadata": {
    "scrolled": true
   },
   "outputs": [
    {
     "data": {
      "text/html": [
       "<div>\n",
       "<style>\n",
       "    .dataframe thead tr:only-child th {\n",
       "        text-align: right;\n",
       "    }\n",
       "\n",
       "    .dataframe thead th {\n",
       "        text-align: left;\n",
       "    }\n",
       "\n",
       "    .dataframe tbody tr th {\n",
       "        vertical-align: top;\n",
       "    }\n",
       "</style>\n",
       "<table border=\"1\" class=\"dataframe\">\n",
       "  <thead>\n",
       "    <tr style=\"text-align: right;\">\n",
       "      <th></th>\n",
       "      <th>Negative</th>\n",
       "      <th>Positive</th>\n",
       "    </tr>\n",
       "    <tr>\n",
       "      <th>token</th>\n",
       "      <th></th>\n",
       "      <th></th>\n",
       "    </tr>\n",
       "  </thead>\n",
       "  <tbody>\n",
       "    <tr>\n",
       "      <th>00</th>\n",
       "      <td>782.0</td>\n",
       "      <td>1715.0</td>\n",
       "    </tr>\n",
       "    <tr>\n",
       "      <th>000</th>\n",
       "      <td>75.0</td>\n",
       "      <td>284.0</td>\n",
       "    </tr>\n",
       "    <tr>\n",
       "      <th>0000</th>\n",
       "      <td>0.0</td>\n",
       "      <td>4.0</td>\n",
       "    </tr>\n",
       "    <tr>\n",
       "      <th>000001</th>\n",
       "      <td>2.0</td>\n",
       "      <td>0.0</td>\n",
       "    </tr>\n",
       "    <tr>\n",
       "      <th>00001</th>\n",
       "      <td>1.0</td>\n",
       "      <td>1.0</td>\n",
       "    </tr>\n",
       "  </tbody>\n",
       "</table>\n",
       "</div>"
      ],
      "text/plain": [
       "        Negative  Positive\n",
       "token                     \n",
       "00         782.0    1715.0\n",
       "000         75.0     284.0\n",
       "0000         0.0       4.0\n",
       "000001       2.0       0.0\n",
       "00001        1.0       1.0"
      ]
     },
     "execution_count": 95,
     "metadata": {},
     "output_type": "execute_result"
    }
   ],
   "source": [
    "# Create a DataFrame of tokens with their separate Negative and Positive Reviews\n",
    "tokens = pd.DataFrame({'token':X_train_tokens, 'Negative':neg_token_count, 'Positive':pos_token_count}).set_index('token')\n",
    "tokens.head()"
   ]
  },
  {
   "cell_type": "code",
   "execution_count": 96,
   "metadata": {
    "scrolled": true
   },
   "outputs": [
    {
     "data": {
      "text/html": [
       "<div>\n",
       "<style>\n",
       "    .dataframe thead tr:only-child th {\n",
       "        text-align: right;\n",
       "    }\n",
       "\n",
       "    .dataframe thead th {\n",
       "        text-align: left;\n",
       "    }\n",
       "\n",
       "    .dataframe tbody tr th {\n",
       "        vertical-align: top;\n",
       "    }\n",
       "</style>\n",
       "<table border=\"1\" class=\"dataframe\">\n",
       "  <thead>\n",
       "    <tr style=\"text-align: right;\">\n",
       "      <th></th>\n",
       "      <th>Negative</th>\n",
       "      <th>Positive</th>\n",
       "    </tr>\n",
       "    <tr>\n",
       "      <th>token</th>\n",
       "      <th></th>\n",
       "      <th></th>\n",
       "    </tr>\n",
       "  </thead>\n",
       "  <tbody>\n",
       "    <tr>\n",
       "      <th>antioxis</th>\n",
       "      <td>0.0</td>\n",
       "      <td>1.0</td>\n",
       "    </tr>\n",
       "    <tr>\n",
       "      <th>menue</th>\n",
       "      <td>0.0</td>\n",
       "      <td>2.0</td>\n",
       "    </tr>\n",
       "    <tr>\n",
       "      <th>openedi</th>\n",
       "      <td>2.0</td>\n",
       "      <td>0.0</td>\n",
       "    </tr>\n",
       "    <tr>\n",
       "      <th>regie</th>\n",
       "      <td>0.0</td>\n",
       "      <td>1.0</td>\n",
       "    </tr>\n",
       "    <tr>\n",
       "      <th>tay</th>\n",
       "      <td>0.0</td>\n",
       "      <td>4.0</td>\n",
       "    </tr>\n",
       "    <tr>\n",
       "      <th>sandwhiches</th>\n",
       "      <td>2.0</td>\n",
       "      <td>11.0</td>\n",
       "    </tr>\n",
       "    <tr>\n",
       "      <th>b000fd92z6</th>\n",
       "      <td>0.0</td>\n",
       "      <td>1.0</td>\n",
       "    </tr>\n",
       "    <tr>\n",
       "      <th>_______________it</th>\n",
       "      <td>0.0</td>\n",
       "      <td>1.0</td>\n",
       "    </tr>\n",
       "    <tr>\n",
       "      <th>lunchif</th>\n",
       "      <td>0.0</td>\n",
       "      <td>1.0</td>\n",
       "    </tr>\n",
       "    <tr>\n",
       "      <th>ortho</th>\n",
       "      <td>11.0</td>\n",
       "      <td>11.0</td>\n",
       "    </tr>\n",
       "    <tr>\n",
       "      <th>martins</th>\n",
       "      <td>0.0</td>\n",
       "      <td>2.0</td>\n",
       "    </tr>\n",
       "    <tr>\n",
       "      <th>efrutti</th>\n",
       "      <td>1.0</td>\n",
       "      <td>1.0</td>\n",
       "    </tr>\n",
       "    <tr>\n",
       "      <th>yamy</th>\n",
       "      <td>0.0</td>\n",
       "      <td>1.0</td>\n",
       "    </tr>\n",
       "    <tr>\n",
       "      <th>compered</th>\n",
       "      <td>0.0</td>\n",
       "      <td>1.0</td>\n",
       "    </tr>\n",
       "    <tr>\n",
       "      <th>tastepro</th>\n",
       "      <td>0.0</td>\n",
       "      <td>1.0</td>\n",
       "    </tr>\n",
       "    <tr>\n",
       "      <th>include</th>\n",
       "      <td>252.0</td>\n",
       "      <td>728.0</td>\n",
       "    </tr>\n",
       "    <tr>\n",
       "      <th>toastthis</th>\n",
       "      <td>0.0</td>\n",
       "      <td>3.0</td>\n",
       "    </tr>\n",
       "    <tr>\n",
       "      <th>fryingi</th>\n",
       "      <td>0.0</td>\n",
       "      <td>3.0</td>\n",
       "    </tr>\n",
       "    <tr>\n",
       "      <th>noodlesspicy</th>\n",
       "      <td>0.0</td>\n",
       "      <td>1.0</td>\n",
       "    </tr>\n",
       "    <tr>\n",
       "      <th>18th</th>\n",
       "      <td>13.0</td>\n",
       "      <td>15.0</td>\n",
       "    </tr>\n",
       "    <tr>\n",
       "      <th>shade</th>\n",
       "      <td>31.0</td>\n",
       "      <td>131.0</td>\n",
       "    </tr>\n",
       "    <tr>\n",
       "      <th>chairman</th>\n",
       "      <td>2.0</td>\n",
       "      <td>1.0</td>\n",
       "    </tr>\n",
       "    <tr>\n",
       "      <th>again1</th>\n",
       "      <td>0.0</td>\n",
       "      <td>1.0</td>\n",
       "    </tr>\n",
       "    <tr>\n",
       "      <th>treatsbobby</th>\n",
       "      <td>0.0</td>\n",
       "      <td>1.0</td>\n",
       "    </tr>\n",
       "    <tr>\n",
       "      <th>hard</th>\n",
       "      <td>2537.0</td>\n",
       "      <td>11479.0</td>\n",
       "    </tr>\n",
       "    <tr>\n",
       "      <th>crayonthe</th>\n",
       "      <td>1.0</td>\n",
       "      <td>0.0</td>\n",
       "    </tr>\n",
       "    <tr>\n",
       "      <th>halved</th>\n",
       "      <td>5.0</td>\n",
       "      <td>25.0</td>\n",
       "    </tr>\n",
       "    <tr>\n",
       "      <th>experiencetwo</th>\n",
       "      <td>0.0</td>\n",
       "      <td>1.0</td>\n",
       "    </tr>\n",
       "    <tr>\n",
       "      <th>gough</th>\n",
       "      <td>0.0</td>\n",
       "      <td>1.0</td>\n",
       "    </tr>\n",
       "    <tr>\n",
       "      <th>kneecap</th>\n",
       "      <td>0.0</td>\n",
       "      <td>2.0</td>\n",
       "    </tr>\n",
       "    <tr>\n",
       "      <th>mealsnot</th>\n",
       "      <td>0.0</td>\n",
       "      <td>1.0</td>\n",
       "    </tr>\n",
       "    <tr>\n",
       "      <th>flakesweetabix</th>\n",
       "      <td>0.0</td>\n",
       "      <td>1.0</td>\n",
       "    </tr>\n",
       "    <tr>\n",
       "      <th>rumplestiskin</th>\n",
       "      <td>0.0</td>\n",
       "      <td>1.0</td>\n",
       "    </tr>\n",
       "    <tr>\n",
       "      <th>oprah</th>\n",
       "      <td>11.0</td>\n",
       "      <td>36.0</td>\n",
       "    </tr>\n",
       "    <tr>\n",
       "      <th>italianate</th>\n",
       "      <td>0.0</td>\n",
       "      <td>1.0</td>\n",
       "    </tr>\n",
       "    <tr>\n",
       "      <th>retailermy</th>\n",
       "      <td>0.0</td>\n",
       "      <td>1.0</td>\n",
       "    </tr>\n",
       "    <tr>\n",
       "      <th>ferro</th>\n",
       "      <td>0.0</td>\n",
       "      <td>1.0</td>\n",
       "    </tr>\n",
       "    <tr>\n",
       "      <th>summereven</th>\n",
       "      <td>0.0</td>\n",
       "      <td>1.0</td>\n",
       "    </tr>\n",
       "    <tr>\n",
       "      <th>hcl</th>\n",
       "      <td>2.0</td>\n",
       "      <td>6.0</td>\n",
       "    </tr>\n",
       "    <tr>\n",
       "      <th>matzohgrowing</th>\n",
       "      <td>0.0</td>\n",
       "      <td>1.0</td>\n",
       "    </tr>\n",
       "    <tr>\n",
       "      <th>greatreceived</th>\n",
       "      <td>0.0</td>\n",
       "      <td>5.0</td>\n",
       "    </tr>\n",
       "    <tr>\n",
       "      <th>shunt</th>\n",
       "      <td>0.0</td>\n",
       "      <td>5.0</td>\n",
       "    </tr>\n",
       "    <tr>\n",
       "      <th>vanillin</th>\n",
       "      <td>9.0</td>\n",
       "      <td>24.0</td>\n",
       "    </tr>\n",
       "    <tr>\n",
       "      <th>caviot</th>\n",
       "      <td>1.0</td>\n",
       "      <td>0.0</td>\n",
       "    </tr>\n",
       "    <tr>\n",
       "      <th>chinensis</th>\n",
       "      <td>0.0</td>\n",
       "      <td>1.0</td>\n",
       "    </tr>\n",
       "    <tr>\n",
       "      <th>foodgone</th>\n",
       "      <td>0.0</td>\n",
       "      <td>1.0</td>\n",
       "    </tr>\n",
       "    <tr>\n",
       "      <th>cheeseistara</th>\n",
       "      <td>0.0</td>\n",
       "      <td>1.0</td>\n",
       "    </tr>\n",
       "    <tr>\n",
       "      <th>hardwhare</th>\n",
       "      <td>1.0</td>\n",
       "      <td>0.0</td>\n",
       "    </tr>\n",
       "    <tr>\n",
       "      <th>biagi</th>\n",
       "      <td>0.0</td>\n",
       "      <td>3.0</td>\n",
       "    </tr>\n",
       "    <tr>\n",
       "      <th>glase</th>\n",
       "      <td>0.0</td>\n",
       "      <td>4.0</td>\n",
       "    </tr>\n",
       "  </tbody>\n",
       "</table>\n",
       "</div>"
      ],
      "text/plain": [
       "                   Negative  Positive\n",
       "token                                \n",
       "antioxis                0.0       1.0\n",
       "menue                   0.0       2.0\n",
       "openedi                 2.0       0.0\n",
       "regie                   0.0       1.0\n",
       "tay                     0.0       4.0\n",
       "sandwhiches             2.0      11.0\n",
       "b000fd92z6              0.0       1.0\n",
       "_______________it       0.0       1.0\n",
       "lunchif                 0.0       1.0\n",
       "ortho                  11.0      11.0\n",
       "martins                 0.0       2.0\n",
       "efrutti                 1.0       1.0\n",
       "yamy                    0.0       1.0\n",
       "compered                0.0       1.0\n",
       "tastepro                0.0       1.0\n",
       "include               252.0     728.0\n",
       "toastthis               0.0       3.0\n",
       "fryingi                 0.0       3.0\n",
       "noodlesspicy            0.0       1.0\n",
       "18th                   13.0      15.0\n",
       "shade                  31.0     131.0\n",
       "chairman                2.0       1.0\n",
       "again1                  0.0       1.0\n",
       "treatsbobby             0.0       1.0\n",
       "hard                 2537.0   11479.0\n",
       "crayonthe               1.0       0.0\n",
       "halved                  5.0      25.0\n",
       "experiencetwo           0.0       1.0\n",
       "gough                   0.0       1.0\n",
       "kneecap                 0.0       2.0\n",
       "mealsnot                0.0       1.0\n",
       "flakesweetabix          0.0       1.0\n",
       "rumplestiskin           0.0       1.0\n",
       "oprah                  11.0      36.0\n",
       "italianate              0.0       1.0\n",
       "retailermy              0.0       1.0\n",
       "ferro                   0.0       1.0\n",
       "summereven              0.0       1.0\n",
       "hcl                     2.0       6.0\n",
       "matzohgrowing           0.0       1.0\n",
       "greatreceived           0.0       5.0\n",
       "shunt                   0.0       5.0\n",
       "vanillin                9.0      24.0\n",
       "caviot                  1.0       0.0\n",
       "chinensis               0.0       1.0\n",
       "foodgone                0.0       1.0\n",
       "cheeseistara            0.0       1.0\n",
       "hardwhare               1.0       0.0\n",
       "biagi                   0.0       3.0\n",
       "glase                   0.0       4.0"
      ]
     },
     "execution_count": 96,
     "metadata": {},
     "output_type": "execute_result"
    }
   ],
   "source": [
    "# examine 5 random DataFrame rows\n",
    "# It shows the number of times a word appear in neg and pos class\n",
    "tokens.sample(50, random_state=5)"
   ]
  },
  {
   "cell_type": "code",
   "execution_count": 97,
   "metadata": {},
   "outputs": [
    {
     "data": {
      "text/plain": [
       "array([  39886.,  206692.])"
      ]
     },
     "execution_count": 97,
     "metadata": {},
     "output_type": "execute_result"
    }
   ],
   "source": [
    "# Naive Bayes counts the number of observations in each class\n",
    "# it shows that our data is trained on 93426 neg words and 332895 pos word\n",
    "# In Class_count_  (_)underscore is used because this method is available after model is fitted\n",
    "nb.class_count_"
   ]
  },
  {
   "cell_type": "code",
   "execution_count": 98,
   "metadata": {
    "scrolled": true
   },
   "outputs": [
    {
     "data": {
      "text/html": [
       "<div>\n",
       "<style>\n",
       "    .dataframe thead tr:only-child th {\n",
       "        text-align: right;\n",
       "    }\n",
       "\n",
       "    .dataframe thead th {\n",
       "        text-align: left;\n",
       "    }\n",
       "\n",
       "    .dataframe tbody tr th {\n",
       "        vertical-align: top;\n",
       "    }\n",
       "</style>\n",
       "<table border=\"1\" class=\"dataframe\">\n",
       "  <thead>\n",
       "    <tr style=\"text-align: right;\">\n",
       "      <th></th>\n",
       "      <th>Negative</th>\n",
       "      <th>Positive</th>\n",
       "    </tr>\n",
       "    <tr>\n",
       "      <th>token</th>\n",
       "      <th></th>\n",
       "      <th></th>\n",
       "    </tr>\n",
       "  </thead>\n",
       "  <tbody>\n",
       "    <tr>\n",
       "      <th>consise</th>\n",
       "      <td>1.0</td>\n",
       "      <td>2.0</td>\n",
       "    </tr>\n",
       "    <tr>\n",
       "      <th>peabutter</th>\n",
       "      <td>1.0</td>\n",
       "      <td>3.0</td>\n",
       "    </tr>\n",
       "    <tr>\n",
       "      <th>escargotmy</th>\n",
       "      <td>1.0</td>\n",
       "      <td>3.0</td>\n",
       "    </tr>\n",
       "    <tr>\n",
       "      <th>paprika</th>\n",
       "      <td>66.0</td>\n",
       "      <td>305.0</td>\n",
       "    </tr>\n",
       "    <tr>\n",
       "      <th>benvenuto</th>\n",
       "      <td>1.0</td>\n",
       "      <td>2.0</td>\n",
       "    </tr>\n",
       "  </tbody>\n",
       "</table>\n",
       "</div>"
      ],
      "text/plain": [
       "            Negative  Positive\n",
       "token                         \n",
       "consise          1.0       2.0\n",
       "peabutter        1.0       3.0\n",
       "escargotmy       1.0       3.0\n",
       "paprika         66.0     305.0\n",
       "benvenuto        1.0       2.0"
      ]
     },
     "execution_count": 98,
     "metadata": {},
     "output_type": "execute_result"
    }
   ],
   "source": [
    "# add 1 to neg and pos counts to avoid dividing by 0 \n",
    "tokens['Negative'] = tokens.Negative+ 1\n",
    "tokens['Positive'] = tokens.Positive + 1\n",
    "tokens.sample(5, random_state=6)"
   ]
  },
  {
   "cell_type": "code",
   "execution_count": 99,
   "metadata": {
    "scrolled": true
   },
   "outputs": [
    {
     "data": {
      "text/html": [
       "<div>\n",
       "<style>\n",
       "    .dataframe thead tr:only-child th {\n",
       "        text-align: right;\n",
       "    }\n",
       "\n",
       "    .dataframe thead th {\n",
       "        text-align: left;\n",
       "    }\n",
       "\n",
       "    .dataframe tbody tr th {\n",
       "        vertical-align: top;\n",
       "    }\n",
       "</style>\n",
       "<table border=\"1\" class=\"dataframe\">\n",
       "  <thead>\n",
       "    <tr style=\"text-align: right;\">\n",
       "      <th></th>\n",
       "      <th>Negative</th>\n",
       "      <th>Positive</th>\n",
       "    </tr>\n",
       "    <tr>\n",
       "      <th>token</th>\n",
       "      <th></th>\n",
       "      <th></th>\n",
       "    </tr>\n",
       "  </thead>\n",
       "  <tbody>\n",
       "    <tr>\n",
       "      <th>consise</th>\n",
       "      <td>0.000025</td>\n",
       "      <td>0.000010</td>\n",
       "    </tr>\n",
       "    <tr>\n",
       "      <th>peabutter</th>\n",
       "      <td>0.000025</td>\n",
       "      <td>0.000015</td>\n",
       "    </tr>\n",
       "    <tr>\n",
       "      <th>escargotmy</th>\n",
       "      <td>0.000025</td>\n",
       "      <td>0.000015</td>\n",
       "    </tr>\n",
       "    <tr>\n",
       "      <th>paprika</th>\n",
       "      <td>0.001655</td>\n",
       "      <td>0.001476</td>\n",
       "    </tr>\n",
       "    <tr>\n",
       "      <th>benvenuto</th>\n",
       "      <td>0.000025</td>\n",
       "      <td>0.000010</td>\n",
       "    </tr>\n",
       "  </tbody>\n",
       "</table>\n",
       "</div>"
      ],
      "text/plain": [
       "            Negative  Positive\n",
       "token                         \n",
       "consise     0.000025  0.000010\n",
       "peabutter   0.000025  0.000015\n",
       "escargotmy  0.000025  0.000015\n",
       "paprika     0.001655  0.001476\n",
       "benvenuto   0.000025  0.000010"
      ]
     },
     "execution_count": 99,
     "metadata": {},
     "output_type": "execute_result"
    }
   ],
   "source": [
    "# convert the negative  and positive counts into frequencies\n",
    "tokens['Negative']= tokens.Negative / nb.class_count_[0]\n",
    "tokens['Positive'] = tokens.Positive / nb.class_count_[1]\n",
    "tokens.sample(5, random_state=6)"
   ]
  },
  {
   "cell_type": "code",
   "execution_count": 100,
   "metadata": {
    "scrolled": true
   },
   "outputs": [
    {
     "data": {
      "text/html": [
       "<div>\n",
       "<style>\n",
       "    .dataframe thead tr:only-child th {\n",
       "        text-align: right;\n",
       "    }\n",
       "\n",
       "    .dataframe thead th {\n",
       "        text-align: left;\n",
       "    }\n",
       "\n",
       "    .dataframe tbody tr th {\n",
       "        vertical-align: top;\n",
       "    }\n",
       "</style>\n",
       "<table border=\"1\" class=\"dataframe\">\n",
       "  <thead>\n",
       "    <tr style=\"text-align: right;\">\n",
       "      <th></th>\n",
       "      <th>Negative</th>\n",
       "      <th>Positive</th>\n",
       "      <th>Positive_ratio</th>\n",
       "    </tr>\n",
       "    <tr>\n",
       "      <th>token</th>\n",
       "      <th></th>\n",
       "      <th></th>\n",
       "      <th></th>\n",
       "    </tr>\n",
       "  </thead>\n",
       "  <tbody>\n",
       "    <tr>\n",
       "      <th>consise</th>\n",
       "      <td>0.000025</td>\n",
       "      <td>0.000010</td>\n",
       "      <td>0.385946</td>\n",
       "    </tr>\n",
       "    <tr>\n",
       "      <th>peabutter</th>\n",
       "      <td>0.000025</td>\n",
       "      <td>0.000015</td>\n",
       "      <td>0.578919</td>\n",
       "    </tr>\n",
       "    <tr>\n",
       "      <th>escargotmy</th>\n",
       "      <td>0.000025</td>\n",
       "      <td>0.000015</td>\n",
       "      <td>0.578919</td>\n",
       "    </tr>\n",
       "    <tr>\n",
       "      <th>paprika</th>\n",
       "      <td>0.001655</td>\n",
       "      <td>0.001476</td>\n",
       "      <td>0.891770</td>\n",
       "    </tr>\n",
       "    <tr>\n",
       "      <th>benvenuto</th>\n",
       "      <td>0.000025</td>\n",
       "      <td>0.000010</td>\n",
       "      <td>0.385946</td>\n",
       "    </tr>\n",
       "  </tbody>\n",
       "</table>\n",
       "</div>"
      ],
      "text/plain": [
       "            Negative  Positive  Positive_ratio\n",
       "token                                         \n",
       "consise     0.000025  0.000010        0.385946\n",
       "peabutter   0.000025  0.000015        0.578919\n",
       "escargotmy  0.000025  0.000015        0.578919\n",
       "paprika     0.001655  0.001476        0.891770\n",
       "benvenuto   0.000025  0.000010        0.385946"
      ]
     },
     "execution_count": 100,
     "metadata": {},
     "output_type": "execute_result"
    }
   ],
   "source": [
    "# calculate the ratio of Positive-to-Negative for each token\n",
    "tokens['Positive_ratio'] = tokens.Positive / tokens.Negative\n",
    "tokens.sample(5, random_state=6)"
   ]
  },
  {
   "cell_type": "markdown",
   "metadata": {},
   "source": [
    "<h4>Print 100 top positive features</h4>"
   ]
  },
  {
   "cell_type": "code",
   "execution_count": 101,
   "metadata": {
    "scrolled": true
   },
   "outputs": [
    {
     "name": "stdout",
     "output_type": "stream",
     "text": [
      "<class 'pandas.core.frame.DataFrame'>\n",
      "(156009, 3)\n",
      "                Negative  Positive  Positive_ratio\n",
      "token                                             \n",
      "deliciousi      0.000025  0.003745      149.361194\n",
      "deliciousthese  0.000025  0.001016       40.524355\n",
      "deliciousthis   0.000050  0.001805       35.989487\n",
      "snackthese      0.000025  0.000842       33.577323\n",
      "yummythis       0.000025  0.000702       27.981102\n",
      "excellant       0.000025  0.000653       26.051371\n",
      "biscoff         0.000025  0.000576       22.963801\n",
      "wonderfuli      0.000025  0.000566       22.577855\n",
      "acv             0.000025  0.000561       22.384882\n",
      "nom             0.000075  0.001674       22.256233\n",
      "yumthis         0.000025  0.000518       20.648124\n",
      "productgreat    0.000025  0.000513       20.455151\n",
      "excellenti      0.000050  0.001021       20.358664\n",
      "coffeegreat     0.000025  0.000484       19.297312\n",
      "yumi            0.000050  0.000963       19.200825\n",
      "yummyi          0.000100  0.001911       19.056096\n",
      "yummm           0.000025  0.000464       18.525419\n",
      "favoritemy      0.000025  0.000440       17.560554\n",
      "snackmy         0.000025  0.000426       16.981635\n",
      "deliciousthe    0.000025  0.000426       16.981635\n",
      "tri             0.000025  0.000421       16.788661\n",
      "awesomei        0.000050  0.000822       16.402715\n",
      "excelent        0.000025  0.000406       16.209742\n",
      "hears           0.000025  0.000397       15.823796\n",
      "treatthese      0.000025  0.000397       15.823796\n",
      "freezes         0.000025  0.000397       15.823796\n",
      "pleaser         0.000025  0.000397       15.823796\n",
      "perfecti        0.000025  0.000397       15.823796\n",
      "relax           0.000100  0.001568       15.630823\n",
      "fantastici      0.000025  0.000387       15.437850\n",
      "...                  ...       ...             ...\n",
      "yumthese        0.000025  0.000256       10.227575\n",
      "mixmy           0.000025  0.000256       10.227575\n",
      "valuethis       0.000050  0.000503       10.034602\n",
      "prefect         0.000025  0.000252       10.034602\n",
      "blanc           0.000025  0.000252       10.034602\n",
      "lish            0.000025  0.000252       10.034602\n",
      "surprisedi      0.000025  0.000252       10.034602\n",
      "vege            0.000025  0.000247        9.841629\n",
      "butterthis      0.000025  0.000247        9.841629\n",
      "heaveni         0.000025  0.000247        9.841629\n",
      "yummythese      0.000075  0.000740        9.841629\n",
      "briefcase       0.000025  0.000247        9.841629\n",
      "delish          0.000251  0.002463        9.822332\n",
      "lizano          0.000025  0.000242        9.648656\n",
      "smoothi         0.000025  0.000242        9.648656\n",
      "tastythis       0.000075  0.000726        9.648656\n",
      "boon            0.000025  0.000242        9.648656\n",
      "gravies         0.000050  0.000479        9.552169\n",
      "toes            0.000025  0.000237        9.455683\n",
      "vacationing     0.000025  0.000237        9.455683\n",
      "coffeelove      0.000025  0.000237        9.455683\n",
      "wheatena        0.000025  0.000237        9.455683\n",
      "healthythis     0.000025  0.000232        9.262710\n",
      "drizzling       0.000025  0.000232        9.262710\n",
      "angostura       0.000025  0.000232        9.262710\n",
      "snackthe        0.000025  0.000232        9.262710\n",
      "oilthis         0.000075  0.000697        9.262710\n",
      "yummymy         0.000050  0.000460        9.166223\n",
      "unfrosted       0.000025  0.000227        9.069737\n",
      "teaa            0.000025  0.000227        9.069737\n",
      "\n",
      "[100 rows x 3 columns]\n"
     ]
    }
   ],
   "source": [
    "# examine the DataFrame sorted by Positive_rate\n",
    "top=tokens.sort_values('Positive_ratio', ascending=False)\n",
    "print type(top)\n",
    "print (top.shape)\n",
    "print top.head(100)"
   ]
  },
  {
   "cell_type": "markdown",
   "metadata": {},
   "source": [
    "<h3> Linear SVM by using SGD</h3>"
   ]
  },
  {
   "cell_type": "code",
   "execution_count": 102,
   "metadata": {
    "scrolled": true
   },
   "outputs": [
    {
     "name": "stdout",
     "output_type": "stream",
     "text": [
      "CPU times: user 692 ms, sys: 0 ns, total: 692 ms\n",
      "Wall time: 725 ms\n"
     ]
    },
    {
     "data": {
      "text/plain": [
       "SGDClassifier(alpha=0.0001, average=False, class_weight=None, epsilon=0.1,\n",
       "       eta0=0.0, fit_intercept=True, l1_ratio=0.15,\n",
       "       learning_rate='optimal', loss='hinge', n_iter=5, n_jobs=1,\n",
       "       penalty='l2', power_t=0.5, random_state=None, shuffle=True,\n",
       "       verbose=0, warm_start=False)"
      ]
     },
     "execution_count": 102,
     "metadata": {},
     "output_type": "execute_result"
    }
   ],
   "source": [
    "# fit train data into Model\n",
    "from sklearn.linear_model import SGDClassifier\n",
    "clf = SGDClassifier(loss=\"hinge\", penalty=\"l2\")\n",
    "%time clf.fit(X_train_dtm, y_train)"
   ]
  },
  {
   "cell_type": "code",
   "execution_count": 103,
   "metadata": {},
   "outputs": [
    {
     "data": {
      "text/plain": [
       "SGDClassifier(alpha=0.0001, average=False, class_weight=None, epsilon=0.1,\n",
       "       eta0=0.0, fit_intercept=True, l1_ratio=0.15,\n",
       "       learning_rate='optimal', loss='hinge', n_iter=5, n_jobs=1,\n",
       "       penalty='l2', power_t=0.5, random_state=None, shuffle=True,\n",
       "       verbose=0, warm_start=False)"
      ]
     },
     "execution_count": 103,
     "metadata": {},
     "output_type": "execute_result"
    }
   ],
   "source": [
    "clf"
   ]
  },
  {
   "cell_type": "code",
   "execution_count": 104,
   "metadata": {},
   "outputs": [
    {
     "name": "stdout",
     "output_type": "stream",
     "text": [
      "<class 'scipy.sparse.csr.csr_matrix'>\n",
      "(246578, 156009)\n"
     ]
    }
   ],
   "source": [
    "# Visulize the effects on term matrix after fitted vocabulary in the model\n",
    "print type(X_train_dtm)\n",
    "print (X_train_dtm.shape)"
   ]
  },
  {
   "cell_type": "code",
   "execution_count": 105,
   "metadata": {},
   "outputs": [
    {
     "name": "stdout",
     "output_type": "stream",
     "text": [
      "(82193,)\n"
     ]
    }
   ],
   "source": [
    "# Predict the class label on test class\n",
    "ys_pred_class = clf.predict(X_test_dtm)\n",
    "print (ys_pred_class.shape)"
   ]
  },
  {
   "cell_type": "code",
   "execution_count": 106,
   "metadata": {},
   "outputs": [
    {
     "name": "stdout",
     "output_type": "stream",
     "text": [
      "[[ 9171  4063]\n",
      " [ 1636 67323]]\n"
     ]
    }
   ],
   "source": [
    "# print the confusion matrix\n",
    "from sklearn.metrics import confusion_matrix\n",
    "from sklearn import metrics\n",
    "csvm=metrics.confusion_matrix(y_test, ys_pred_class)\n",
    "print csvm"
   ]
  },
  {
   "cell_type": "code",
   "execution_count": 107,
   "metadata": {
    "scrolled": false
   },
   "outputs": [
    {
     "data": {
      "image/png": "[encoded data removed]",
      "text/plain": [
       "<matplotlib.figure.Figure at 0x7f92193affd0>"
      ]
     },
     "metadata": {},
     "output_type": "display_data"
    }
   ],
   "source": [
    "#Plot of Confusion Metric\n",
    "import matplotlib as plt\n",
    "from sklearn.metrics import confusion_matrix\n",
    "import pylab as pl\n",
    "pl.matshow(csvm)\n",
    "# cm = metrics.confusion_matrix(y_test, y_pred_class, labels=['FAKE', 'REAL'])\n",
    "pl.title('Confusion matrix')\n",
    "pl.colorbar()\n",
    "pl.show()"
   ]
  },
  {
   "cell_type": "markdown",
   "metadata": {},
   "source": [
    "<h3>Evaluation Metrics for SVM By Using sklearn Lib</h3>"
   ]
  },
  {
   "cell_type": "code",
   "execution_count": 108,
   "metadata": {},
   "outputs": [
    {
     "name": "stdout",
     "output_type": "stream",
     "text": [
      "('Accuracy', 0.93066319516260509)\n",
      "('Recall', 0.97627575805913658)\n",
      "('Precision', 0.94308407811055384)\n",
      "('F1-Score', 0.95939292457871672)\n"
     ]
    }
   ],
   "source": [
    "print('Accuracy', metrics.accuracy_score(y_test, ys_pred_class))\n",
    "print('Recall',metrics.recall_score(y_test,ys_pred_class))\n",
    "print('Precision' ,metrics.precision_score(y_test,ys_pred_class))\n",
    "print('F1-Score',metrics.f1_score(y_test,ys_pred_class))\n"
   ]
  },
  {
   "cell_type": "code",
   "execution_count": 109,
   "metadata": {},
   "outputs": [
    {
     "name": "stdout",
     "output_type": "stream",
     "text": [
      "             precision    recall  f1-score   support\n",
      "\n",
      "   Negative       0.85      0.69      0.76     13234\n",
      "   Positive       0.94      0.98      0.96     68959\n",
      "\n",
      "avg / total       0.93      0.93      0.93     82193\n",
      "\n"
     ]
    }
   ],
   "source": [
    "from sklearn.metrics import classification_report\n",
    "print classification_report(y_test,ys_pred_class,target_names=['Negative','Positive'])"
   ]
  },
  {
   "cell_type": "code",
   "execution_count": 112,
   "metadata": {},
   "outputs": [
    {
     "name": "stdout",
     "output_type": "stream",
     "text": [
      "('ROC Rate', 0.83463175843110982)\n"
     ]
    }
   ],
   "source": [
    "# calculate AUC\n",
    "from sklearn.metrics import roc_curve, auc\n",
    "import matplotlib.pyplot as plt\n",
    "import random\n",
    "false_positive_rate, true_positive_rate, thresholds = roc_curve(y_test, ys_pred_class)\n",
    "roc_auc = auc(false_positive_rate, true_positive_rate)\n",
    "print('ROC Rate', roc_auc)"
   ]
  },
  {
   "cell_type": "code",
   "execution_count": 111,
   "metadata": {
    "scrolled": true
   },
   "outputs": [
    {
     "data": {
      "image/png": "[encoded data removed]",
      "text/plain": [
       "<matplotlib.figure.Figure at 0x7f9221cb2310>"
      ]
     },
     "metadata": {},
     "output_type": "display_data"
    }
   ],
   "source": [
    "# plot AU-ROC Curve\n",
    "plt.title('Receiver Operating Characteristic')\n",
    "plt.plot(false_positive_rate, true_positive_rate, 'g',\n",
    "label='AUC = %0.2f'% roc_auc)\n",
    "plt.legend(loc='lower right')\n",
    "plt.plot([0,1],[0,1],'r--')\n",
    "plt.xlim([-0.1,1.2])\n",
    "plt.ylim([-0.1,1.2])\n",
    "plt.ylabel('True Positive Rate')\n",
    "plt.xlabel('False Positive Rate')\n",
    "plt.show()"
   ]
  },
  {
   "cell_type": "code",
   "execution_count": 113,
   "metadata": {
    "scrolled": true
   },
   "outputs": [
    {
     "name": "stdout",
     "output_type": "stream",
     "text": [
      "2.39484792426\n"
     ]
    }
   ],
   "source": [
    "from sklearn.metrics import log_loss\n",
    "log_error=log_loss(y_test, ys_pred_class)\n",
    "print log_error"
   ]
  },
  {
   "cell_type": "markdown",
   "metadata": {},
   "source": [
    "<h2> K- fold Cross Validation for k=3 </h2>"
   ]
  },
  {
   "cell_type": "code",
   "execution_count": 114,
   "metadata": {
    "collapsed": true
   },
   "outputs": [],
   "source": [
    "from sklearn import linear_model, datasets\n",
    "from sklearn.cross_validation import cross_val_score"
   ]
  },
  {
   "cell_type": "code",
   "execution_count": 115,
   "metadata": {},
   "outputs": [
    {
     "data": {
      "text/plain": [
       "<328771x185615 sparse matrix of type '<type 'numpy.int64'>'\n",
       "\twith 18053457 stored elements in Compressed Sparse Row format>"
      ]
     },
     "execution_count": 115,
     "metadata": {},
     "output_type": "execute_result"
    }
   ],
   "source": [
    "from sklearn.cross_validation import cross_val_score\n",
    "import matplotlib.pyplot as plt\n",
    "%matplotlib inline\n",
    "Xlg = vect.fit_transform(X)\n",
    "Xlg"
   ]
  },
  {
   "cell_type": "code",
   "execution_count": 116,
   "metadata": {
    "collapsed": true
   },
   "outputs": [],
   "source": [
    "xlg=Xlg.toarray\n"
   ]
  },
  {
   "cell_type": "code",
   "execution_count": 117,
   "metadata": {
    "scrolled": true
   },
   "outputs": [
    {
     "name": "stdout",
     "output_type": "stream",
     "text": [
      "CPU times: user 9min 51s, sys: 1.32 s, total: 9min 52s\n",
      "Wall time: 10min 6s\n",
      "[ 0.93448367  0.93327919  0.9351121 ]\n"
     ]
    }
   ],
   "source": [
    "# 3-fold cross-validation with c=100 for logestic regression\n",
    "logreg = LogisticRegression(C=100)\n",
    "%time scores = cross_val_score(logreg, Xlg, y, cv=3, scoring='accuracy')\n",
    "print(scores)"
   ]
  },
  {
   "cell_type": "code",
   "execution_count": 118,
   "metadata": {},
   "outputs": [
    {
     "name": "stdout",
     "output_type": "stream",
     "text": [
      "0.934291654802\n"
     ]
    }
   ],
   "source": [
    "# use average accuracy as an estimate of out-of-sample accuracy\n",
    "print(scores.mean())"
   ]
  },
  {
   "cell_type": "code",
   "execution_count": 119,
   "metadata": {},
   "outputs": [
    {
     "name": "stdout",
     "output_type": "stream",
     "text": [
      "CPU times: user 11.5 s, sys: 624 ms, total: 12.1 s\n",
      "Wall time: 17 s\n",
      "[ 0.92919713  0.93055936]\n"
     ]
    }
   ],
   "source": [
    "# 2-fold cross-validation with c=0.05 for logestic regression\n",
    "logreg = LogisticRegression(penalty='l1',C=0.05)\n",
    "%time scores = cross_val_score(logreg, Xlg, y, cv=2, scoring='accuracy')\n",
    "print(scores)"
   ]
  },
  {
   "cell_type": "code",
   "execution_count": 120,
   "metadata": {},
   "outputs": [
    {
     "name": "stdout",
     "output_type": "stream",
     "text": [
      "[0.93248188510446439, 0.93248796838456949, 0.93247276004553303, 0.9324849267167622]\n"
     ]
    }
   ],
   "source": [
    "# search for an optimal value of Lambda for Logistic Regression C=1/Lambda\n",
    "logrg = LogisticRegression(penalty='l1',C=0.05)\n",
    "L_range = list(range(1,5))\n",
    "L_scores = []\n",
    "for l in L_range:\n",
    "    logreg = LogisticRegression(C=l)\n",
    "    scores = cross_val_score(logrg, Xlg, y, cv=3, scoring='accuracy')\n",
    "    L_scores.append(scores.mean())\n",
    "print(L_scores)"
   ]
  },
  {
   "cell_type": "code",
   "execution_count": 121,
   "metadata": {},
   "outputs": [
    {
     "data": {
      "text/plain": [
       "<matplotlib.text.Text at 0x7f922345bd10>"
      ]
     },
     "execution_count": 121,
     "metadata": {},
     "output_type": "execute_result"
    },
    {
     "data": {
      "image/png": "[encoded data removed]",
      "text/plain": [
       "<matplotlib.figure.Figure at 0x7f922349b750>"
      ]
     },
     "metadata": {},
     "output_type": "display_data"
    }
   ],
   "source": [
    "import matplotlib.pyplot as plt\n",
    "%matplotlib inline\n",
    "\n",
    "# plot the value of Lambda for Logestic Regression(x-axis) versus the cross-validated accuracy (y-axis)\n",
    "plt.plot(L_range, L_scores)\n",
    "plt.xlabel('Value of Reverse of regularizer for C ')\n",
    "plt.ylabel('Cross-Validated Accuracy')"
   ]
  },
  {
   "cell_type": "markdown",
   "metadata": {},
   "source": [
    "## Tuning  Parameter using `GridSearchCV`"
   ]
  },
  {
   "cell_type": "code",
   "execution_count": 122,
   "metadata": {},
   "outputs": [
    {
     "name": "stderr",
     "output_type": "stream",
     "text": [
      "/usr/local/lib/python2.7/dist-packages/sklearn/grid_search.py:43: DeprecationWarning: This module was deprecated in version 0.18 in favor of the model_selection module into which all the refactored classes and functions are moved. This module will be removed in 0.20.\n",
      "  DeprecationWarning)\n"
     ]
    }
   ],
   "source": [
    "from sklearn.grid_search import GridSearchCV"
   ]
  },
  {
   "cell_type": "code",
   "execution_count": 123,
   "metadata": {},
   "outputs": [
    {
     "name": "stdout",
     "output_type": "stream",
     "text": [
      "[1, 2]\n"
     ]
    }
   ],
   "source": [
    "# define the parameter values that should be searched\n",
    "l_range = list(range(1,3))\n",
    "print(l_range)"
   ]
  },
  {
   "cell_type": "code",
   "execution_count": 124,
   "metadata": {
    "scrolled": true
   },
   "outputs": [
    {
     "name": "stdout",
     "output_type": "stream",
     "text": [
      "{'C': [1, 2]}\n"
     ]
    }
   ],
   "source": [
    "# create a parameter grid: map the parameter names to the values that should be searched\n",
    "param_grid=dict(C=l_range)\n",
    "print(param_grid)"
   ]
  },
  {
   "cell_type": "code",
   "execution_count": 125,
   "metadata": {},
   "outputs": [
    {
     "name": "stdout",
     "output_type": "stream",
     "text": [
      "CPU times: user 0 ns, sys: 0 ns, total: 0 ns\n",
      "Wall time: 39.1 µs\n"
     ]
    }
   ],
   "source": [
    "# instantiate the grid\n",
    "%time grid = GridSearchCV(logrg, param_grid, cv=3, scoring='accuracy')"
   ]
  },
  {
   "cell_type": "code",
   "execution_count": 126,
   "metadata": {},
   "outputs": [
    {
     "data": {
      "text/plain": [
       "GridSearchCV(cv=3, error_score='raise',\n",
       "       estimator=LogisticRegression(C=0.05, class_weight=None, dual=False, fit_intercept=True,\n",
       "          intercept_scaling=1, max_iter=100, multi_class='ovr', n_jobs=1,\n",
       "          penalty='l1', random_state=None, solver='liblinear', tol=0.0001,\n",
       "          verbose=0, warm_start=False),\n",
       "       fit_params={}, iid=True, n_jobs=1, param_grid={'C': [1, 2]},\n",
       "       pre_dispatch='2*n_jobs', refit=True, scoring='accuracy', verbose=0)"
      ]
     },
     "execution_count": 126,
     "metadata": {},
     "output_type": "execute_result"
    }
   ],
   "source": [
    "# fit the grid with data\n",
    "grid.fit(Xlg, y)"
   ]
  },
  {
   "cell_type": "code",
   "execution_count": 127,
   "metadata": {},
   "outputs": [
    {
     "data": {
      "text/plain": [
       "[mean: 0.93809, std: 0.00072, params: {'C': 1},\n",
       " mean: 0.93554, std: 0.00089, params: {'C': 2}]"
      ]
     },
     "execution_count": 127,
     "metadata": {},
     "output_type": "execute_result"
    }
   ],
   "source": [
    "# view the complete results (list of named tuples)\n",
    "grid.grid_scores_"
   ]
  },
  {
   "cell_type": "code",
   "execution_count": 128,
   "metadata": {},
   "outputs": [
    {
     "name": "stdout",
     "output_type": "stream",
     "text": [
      "[0.9380876050503237, 0.9355417600700792]\n"
     ]
    }
   ],
   "source": [
    "# create a list of the mean scores only\n",
    "grid_mean_scores = [result.mean_validation_score for result in grid.grid_scores_]\n",
    "print(grid_mean_scores)"
   ]
  },
  {
   "cell_type": "markdown",
   "metadata": {
    "collapsed": true
   },
   "source": [
    "<h3> Comparing all the Models on the basis of Metrics</h3>"
   ]
  },
  {
   "cell_type": "markdown",
   "metadata": {},
   "source": [
    "Parameters|Naive Bayes | Logestic Regression|Loges Regr. L1|Lr SVM\n",
    "------------| -------------\n",
    "**TIME**| **2.89 s** |3min 36s|33.6 s|725 ms\n",
    "**Accuracy**|0.92|**0.94155**|0.94|0.93\n",
    "**Recall**|0.96|**0.973**|0.972|0.97\n",
    "**Precision**|0.950|**0.9577**|0.9573|0.94\n",
    "**F1-Score**|0.954|**0.96544**|0.964|0.95\n",
    "**AU-ROC**|0.9438|**0.9641**|**0.9641**|0.86230  0.8346\n",
    "**logloss** |**0.1739**|0.2103|**0.1739**|\n",
    "\n",
    "#### By using Cross validation, it is found that for C=2 Accuracy is maximum for Logestic Regression \n",
    "#### Naive Bayes is faster among others Linear models.\n"
   ]
  }
 ],
 "metadata": {
  "kernelspec": {
   "display_name": "Python 2",
   "language": "python",
   "name": "python2"
  },
  "language_info": {
   "codemirror_mode": {
    "name": "ipython",
    "version": 2
   },
   "file_extension": ".py",
   "mimetype": "text/x-python",
   "name": "python",
   "nbconvert_exporter": "python",
   "pygments_lexer": "ipython2",
   "version": "2.7.12"
  }
 },
 "nbformat": 4,
 "nbformat_minor": 2
}
